{
  "nbformat": 4,
  "nbformat_minor": 0,
  "metadata": {
    "colab": {
      "name": "BUENO-Descripción de los datos.ipynb",
      "provenance": [],
      "collapsed_sections": []
    },
    "kernelspec": {
      "name": "python3",
      "display_name": "Python 3"
    },
    "language_info": {
      "name": "python"
    }
  },
  "cells": [
    {
      "cell_type": "markdown",
      "source": [
        "# Descripción de los datos\n"
      ],
      "metadata": {
        "id": "kj5-LeVr_A0U"
      }
    },
    {
      "cell_type": "markdown",
      "source": [
        "## Corpus Twitter"
      ],
      "metadata": {
        "id": "qY4-0JY2F4tY"
      }
    },
    {
      "cell_type": "code",
      "source": [
        "import pandas as pd\n",
        "from sklearn.feature_extraction.text import CountVectorizer\n",
        "from sklearn.feature_extraction.text import TfidfTransformer\n",
        "from matplotlib import pyplot as plt"
      ],
      "metadata": {
        "id": "GL97o7_ttY4l"
      },
      "execution_count": 1,
      "outputs": []
    },
    {
      "cell_type": "code",
      "execution_count": 2,
      "metadata": {
        "colab": {
          "base_uri": "https://localhost:8080/",
          "height": 837
        },
        "id": "v7l8-0dI-8No",
        "outputId": "8ed1e8f3-a458-48b1-d517-0ff0d9ef332b"
      },
      "outputs": [
        {
          "output_type": "execute_result",
          "data": {
            "text/plain": [
              "                                                  Tweet         Target  \\\n",
              "0     Repsol empezará a enviar crudo desde Venezuela...         Repsol   \n",
              "1     Tras vetar el petróleo de Moscú todos miran al...            gas   \n",
              "2     Las demoras de Bruselas, Madrid y Lisboa retra...            luz   \n",
              "3     La gran banca se iguala en rentabilidad a las ...          banca   \n",
              "4     Wall Street reacciona con caídas a los buenos ...    Wall Street   \n",
              "...                                                 ...            ...   \n",
              "1270  Unicaja Banco obtiene un beneficio neto de 116...  Unicaja Banco   \n",
              "1271  Merlin gana 262 millones, un 45% menos, por la...         Merlin   \n",
              "1272  Iberdrola se adjudica el mayor número de lotes...      Iberdrola   \n",
              "1273  CaixaBank lidera venta de fondos de pensiones ...      CaixaBank   \n",
              "1274  Barclays gana 2.271 millones de euros en el pr...       Barclays   \n",
              "\n",
              "     Sent_Target Sent_Sociedad Sent_Empresas  \\\n",
              "0            POS           POS           POS   \n",
              "1            NEG           NEG           NEG   \n",
              "2            NEG           NEG           NEG   \n",
              "3            POS           POS           POS   \n",
              "4            NEG           NEG           NEG   \n",
              "...          ...           ...           ...   \n",
              "1270         POS           POS           NEG   \n",
              "1271         NEG           NEG           POS   \n",
              "1272         POS           POS           NEG   \n",
              "1273         POS           POS           NEG   \n",
              "1274         POS           POS           NEG   \n",
              "\n",
              "                                            tweet_clean  \n",
              "0         repsol empezará enviar crudo venezuela europa  \n",
              "1     tras vetar petróleo moscú miran gas ruleta rus...  \n",
              "2     demoras bruselas madrid lisboa retrasan plan a...  \n",
              "3     gran banca iguala rentabilidad grandes entidad...  \n",
              "4     wall street reacciona caídas buenos datos empl...  \n",
              "...                                                 ...  \n",
              "1270  unicaja banco obtiene beneficio neto millones ...  \n",
              "1271  merlin gana millones menos ausencia extraordin...  \n",
              "1272  iberdrola adjudica mayor número lotes subasta ...  \n",
              "1273  caixabank lidera venta fondos pensiones invers...  \n",
              "1274        barclays gana millones euro primer semestre  \n",
              "\n",
              "[1275 rows x 6 columns]"
            ],
            "text/html": [
              "\n",
              "  <div id=\"df-4d969d4f-4510-42be-9ba0-c15f92e2ce6d\">\n",
              "    <div class=\"colab-df-container\">\n",
              "      <div>\n",
              "<style scoped>\n",
              "    .dataframe tbody tr th:only-of-type {\n",
              "        vertical-align: middle;\n",
              "    }\n",
              "\n",
              "    .dataframe tbody tr th {\n",
              "        vertical-align: top;\n",
              "    }\n",
              "\n",
              "    .dataframe thead th {\n",
              "        text-align: right;\n",
              "    }\n",
              "</style>\n",
              "<table border=\"1\" class=\"dataframe\">\n",
              "  <thead>\n",
              "    <tr style=\"text-align: right;\">\n",
              "      <th></th>\n",
              "      <th>Tweet</th>\n",
              "      <th>Target</th>\n",
              "      <th>Sent_Target</th>\n",
              "      <th>Sent_Sociedad</th>\n",
              "      <th>Sent_Empresas</th>\n",
              "      <th>tweet_clean</th>\n",
              "    </tr>\n",
              "  </thead>\n",
              "  <tbody>\n",
              "    <tr>\n",
              "      <th>0</th>\n",
              "      <td>Repsol empezará a enviar crudo desde Venezuela...</td>\n",
              "      <td>Repsol</td>\n",
              "      <td>POS</td>\n",
              "      <td>POS</td>\n",
              "      <td>POS</td>\n",
              "      <td>repsol empezará enviar crudo venezuela europa</td>\n",
              "    </tr>\n",
              "    <tr>\n",
              "      <th>1</th>\n",
              "      <td>Tras vetar el petróleo de Moscú todos miran al...</td>\n",
              "      <td>gas</td>\n",
              "      <td>NEG</td>\n",
              "      <td>NEG</td>\n",
              "      <td>NEG</td>\n",
              "      <td>tras vetar petróleo moscú miran gas ruleta rus...</td>\n",
              "    </tr>\n",
              "    <tr>\n",
              "      <th>2</th>\n",
              "      <td>Las demoras de Bruselas, Madrid y Lisboa retra...</td>\n",
              "      <td>luz</td>\n",
              "      <td>NEG</td>\n",
              "      <td>NEG</td>\n",
              "      <td>NEG</td>\n",
              "      <td>demoras bruselas madrid lisboa retrasan plan a...</td>\n",
              "    </tr>\n",
              "    <tr>\n",
              "      <th>3</th>\n",
              "      <td>La gran banca se iguala en rentabilidad a las ...</td>\n",
              "      <td>banca</td>\n",
              "      <td>POS</td>\n",
              "      <td>POS</td>\n",
              "      <td>POS</td>\n",
              "      <td>gran banca iguala rentabilidad grandes entidad...</td>\n",
              "    </tr>\n",
              "    <tr>\n",
              "      <th>4</th>\n",
              "      <td>Wall Street reacciona con caídas a los buenos ...</td>\n",
              "      <td>Wall Street</td>\n",
              "      <td>NEG</td>\n",
              "      <td>NEG</td>\n",
              "      <td>NEG</td>\n",
              "      <td>wall street reacciona caídas buenos datos empl...</td>\n",
              "    </tr>\n",
              "    <tr>\n",
              "      <th>...</th>\n",
              "      <td>...</td>\n",
              "      <td>...</td>\n",
              "      <td>...</td>\n",
              "      <td>...</td>\n",
              "      <td>...</td>\n",
              "      <td>...</td>\n",
              "    </tr>\n",
              "    <tr>\n",
              "      <th>1270</th>\n",
              "      <td>Unicaja Banco obtiene un beneficio neto de 116...</td>\n",
              "      <td>Unicaja Banco</td>\n",
              "      <td>POS</td>\n",
              "      <td>POS</td>\n",
              "      <td>NEG</td>\n",
              "      <td>unicaja banco obtiene beneficio neto millones ...</td>\n",
              "    </tr>\n",
              "    <tr>\n",
              "      <th>1271</th>\n",
              "      <td>Merlin gana 262 millones, un 45% menos, por la...</td>\n",
              "      <td>Merlin</td>\n",
              "      <td>NEG</td>\n",
              "      <td>NEG</td>\n",
              "      <td>POS</td>\n",
              "      <td>merlin gana millones menos ausencia extraordin...</td>\n",
              "    </tr>\n",
              "    <tr>\n",
              "      <th>1272</th>\n",
              "      <td>Iberdrola se adjudica el mayor número de lotes...</td>\n",
              "      <td>Iberdrola</td>\n",
              "      <td>POS</td>\n",
              "      <td>POS</td>\n",
              "      <td>NEG</td>\n",
              "      <td>iberdrola adjudica mayor número lotes subasta ...</td>\n",
              "    </tr>\n",
              "    <tr>\n",
              "      <th>1273</th>\n",
              "      <td>CaixaBank lidera venta de fondos de pensiones ...</td>\n",
              "      <td>CaixaBank</td>\n",
              "      <td>POS</td>\n",
              "      <td>POS</td>\n",
              "      <td>NEG</td>\n",
              "      <td>caixabank lidera venta fondos pensiones invers...</td>\n",
              "    </tr>\n",
              "    <tr>\n",
              "      <th>1274</th>\n",
              "      <td>Barclays gana 2.271 millones de euros en el pr...</td>\n",
              "      <td>Barclays</td>\n",
              "      <td>POS</td>\n",
              "      <td>POS</td>\n",
              "      <td>NEG</td>\n",
              "      <td>barclays gana millones euro primer semestre</td>\n",
              "    </tr>\n",
              "  </tbody>\n",
              "</table>\n",
              "<p>1275 rows × 6 columns</p>\n",
              "</div>\n",
              "      <button class=\"colab-df-convert\" onclick=\"convertToInteractive('df-4d969d4f-4510-42be-9ba0-c15f92e2ce6d')\"\n",
              "              title=\"Convert this dataframe to an interactive table.\"\n",
              "              style=\"display:none;\">\n",
              "        \n",
              "  <svg xmlns=\"http://www.w3.org/2000/svg\" height=\"24px\"viewBox=\"0 0 24 24\"\n",
              "       width=\"24px\">\n",
              "    <path d=\"M0 0h24v24H0V0z\" fill=\"none\"/>\n",
              "    <path d=\"M18.56 5.44l.94 2.06.94-2.06 2.06-.94-2.06-.94-.94-2.06-.94 2.06-2.06.94zm-11 1L8.5 8.5l.94-2.06 2.06-.94-2.06-.94L8.5 2.5l-.94 2.06-2.06.94zm10 10l.94 2.06.94-2.06 2.06-.94-2.06-.94-.94-2.06-.94 2.06-2.06.94z\"/><path d=\"M17.41 7.96l-1.37-1.37c-.4-.4-.92-.59-1.43-.59-.52 0-1.04.2-1.43.59L10.3 9.45l-7.72 7.72c-.78.78-.78 2.05 0 2.83L4 21.41c.39.39.9.59 1.41.59.51 0 1.02-.2 1.41-.59l7.78-7.78 2.81-2.81c.8-.78.8-2.07 0-2.86zM5.41 20L4 18.59l7.72-7.72 1.47 1.35L5.41 20z\"/>\n",
              "  </svg>\n",
              "      </button>\n",
              "      \n",
              "  <style>\n",
              "    .colab-df-container {\n",
              "      display:flex;\n",
              "      flex-wrap:wrap;\n",
              "      gap: 12px;\n",
              "    }\n",
              "\n",
              "    .colab-df-convert {\n",
              "      background-color: #E8F0FE;\n",
              "      border: none;\n",
              "      border-radius: 50%;\n",
              "      cursor: pointer;\n",
              "      display: none;\n",
              "      fill: #1967D2;\n",
              "      height: 32px;\n",
              "      padding: 0 0 0 0;\n",
              "      width: 32px;\n",
              "    }\n",
              "\n",
              "    .colab-df-convert:hover {\n",
              "      background-color: #E2EBFA;\n",
              "      box-shadow: 0px 1px 2px rgba(60, 64, 67, 0.3), 0px 1px 3px 1px rgba(60, 64, 67, 0.15);\n",
              "      fill: #174EA6;\n",
              "    }\n",
              "\n",
              "    [theme=dark] .colab-df-convert {\n",
              "      background-color: #3B4455;\n",
              "      fill: #D2E3FC;\n",
              "    }\n",
              "\n",
              "    [theme=dark] .colab-df-convert:hover {\n",
              "      background-color: #434B5C;\n",
              "      box-shadow: 0px 1px 3px 1px rgba(0, 0, 0, 0.15);\n",
              "      filter: drop-shadow(0px 1px 2px rgba(0, 0, 0, 0.3));\n",
              "      fill: #FFFFFF;\n",
              "    }\n",
              "  </style>\n",
              "\n",
              "      <script>\n",
              "        const buttonEl =\n",
              "          document.querySelector('#df-4d969d4f-4510-42be-9ba0-c15f92e2ce6d button.colab-df-convert');\n",
              "        buttonEl.style.display =\n",
              "          google.colab.kernel.accessAllowed ? 'block' : 'none';\n",
              "\n",
              "        async function convertToInteractive(key) {\n",
              "          const element = document.querySelector('#df-4d969d4f-4510-42be-9ba0-c15f92e2ce6d');\n",
              "          const dataTable =\n",
              "            await google.colab.kernel.invokeFunction('convertToInteractive',\n",
              "                                                     [key], {});\n",
              "          if (!dataTable) return;\n",
              "\n",
              "          const docLinkHtml = 'Like what you see? Visit the ' +\n",
              "            '<a target=\"_blank\" href=https://colab.research.google.com/notebooks/data_table.ipynb>data table notebook</a>'\n",
              "            + ' to learn more about interactive tables.';\n",
              "          element.innerHTML = '';\n",
              "          dataTable['output_type'] = 'display_data';\n",
              "          await google.colab.output.renderOutput(dataTable, element);\n",
              "          const docLink = document.createElement('div');\n",
              "          docLink.innerHTML = docLinkHtml;\n",
              "          element.appendChild(docLink);\n",
              "        }\n",
              "      </script>\n",
              "    </div>\n",
              "  </div>\n",
              "  "
            ]
          },
          "metadata": {},
          "execution_count": 2
        }
      ],
      "source": [
        "df = pd.read_csv(\"data_twitter/tweets_finanzas_clean.csv\", delimiter=\";\")\n",
        "df"
      ]
    },
    {
      "cell_type": "code",
      "source": [
        "fig, (ax1, ax2, ax3) = plt.subplots(1, 3, figsize=(15,4))\n",
        "\n",
        "df['Sent_Target'].value_counts(normalize=True).loc[[\"POS\", \"NEG\"]].plot(kind='bar', ax=ax1, \n",
        "                                                     color=[\"C2\", \"C3\"])\n",
        "ax1.tick_params(labelrotation=0)\n",
        "ax1.set_ylabel('Porcentaje')\n",
        "ax1.set_xlabel('Sentimiento')\n",
        "ax1.set_title((\"Distribución de sentimiento target\"))\n",
        "\n",
        "\n",
        "df['Sent_Sociedad'].value_counts(normalize=True).loc[[\"POS\", \"NEG\"]].plot(kind='bar', ax=ax2,\n",
        "                                                    color=[\"C2\", \"C3\"])\n",
        "ax2.tick_params(labelrotation=0)\n",
        "ax2.set_xlabel('Sentimiento')\n",
        "ax2.set_title((\"Distribución de sentimiento sociedad\"))\n",
        "\n",
        "\n",
        "df['Sent_Empresas'].value_counts(normalize=True).loc[[\"POS\", \"NEG\"]].plot(kind='bar', ax=ax3,\n",
        "                                                    color=[\"C2\", \"C3\"])\n",
        "ax3.tick_params(labelrotation=0)\n",
        "ax3.set_xlabel('Sentimiento')\n",
        "ax3.set_title((\"Distribución de sentimiento empresas\"))"
      ],
      "metadata": {
        "colab": {
          "base_uri": "https://localhost:8080/",
          "height": 302
        },
        "id": "VcSmV6OnDi6H",
        "outputId": "7c423081-778e-4ca0-dcd8-2c1e27cdabd1"
      },
      "execution_count": null,
      "outputs": [
        {
          "output_type": "execute_result",
          "data": {
            "text/plain": [
              "Text(0.5, 1.0, 'Distribución de sentimiento empresas')"
            ]
          },
          "metadata": {},
          "execution_count": 24
        },
        {
          "output_type": "display_data",
          "data": {
            "text/plain": [
              "<Figure size 1080x288 with 3 Axes>"
            ],
            "image/png": "[encoded data removed]"
          },
          "metadata": {
            "needs_background": "light"
          }
        }
      ]
    },
    {
      "cell_type": "code",
      "source": [
        "df_POS = df.loc[df[\"Sent_Target\"]== \"POS\"]\n",
        "df_NEG = df.loc[df[\"Sent_Target\"]== \"NEG\"]"
      ],
      "metadata": {
        "id": "Bl3vwHV-qC3w"
      },
      "execution_count": null,
      "outputs": []
    },
    {
      "cell_type": "code",
      "source": [
        "count_vect = CountVectorizer(ngram_range=(1,1))\n",
        "X_counts_POS = count_vect.fit_transform(df_POS[\"tweet_clean\"])\n",
        "\n",
        "matriz_POS = pd.DataFrame(X_counts_POS.toarray(),\n",
        "                          columns=count_vect.get_feature_names_out())\n",
        "matriz_POS = matriz_POS.T.sort_values(by=0, ascending=False)\n",
        "\n",
        "count_POS = matriz_POS.sum(axis='columns').sort_values(ascending=False)"
      ],
      "metadata": {
        "id": "YIa--bPsoCMn"
      },
      "execution_count": null,
      "outputs": []
    },
    {
      "cell_type": "code",
      "source": [
        "# NOOOOOOOOOOOOOOOOOOOOOOOO\n",
        "tfidf_transformer = TfidfTransformer(use_idf=True)\n",
        "X_TFIDF_POS = tfidf_transformer.fit_transform(X_counts_POS)\n",
        "\n",
        "matriz_TFIDF_POS = pd.DataFrame(X_TFIDF_POS.toarray(),\n",
        "                          columns=count_vect.get_feature_names_out())\n",
        "TFIDF_POS = matriz_TFIDF_POS.T.sum(axis=\"columns\").sort_values(ascending=False)"
      ],
      "metadata": {
        "id": "f41VS_oYx6dc"
      },
      "execution_count": null,
      "outputs": []
    },
    {
      "cell_type": "code",
      "source": [
        "X_counts_NEG = count_vect.fit_transform(df_NEG[\"tweet_clean\"])\n",
        "\n",
        "matriz_NEG = pd.DataFrame(X_counts_NEG.toarray(),\n",
        "                          columns=count_vect.get_feature_names_out())\n",
        "matriz_NEG = matriz_NEG.T.sort_values(by=0, ascending=False)\n",
        "\n",
        "count_NEG = matriz_NEG.sum(axis=\"columns\").sort_values(ascending=False)"
      ],
      "metadata": {
        "id": "ndxBzUY2uQjY"
      },
      "execution_count": null,
      "outputs": []
    },
    {
      "cell_type": "code",
      "source": [
        "# NOOOOOOOOOOOOOOOOOOOOOOOO\n",
        "X_TFIDF_NEG = tfidf_transformer.fit_transform(X_counts_NEG)\n",
        "\n",
        "matriz_TFIDF_NEG = pd.DataFrame(X_TFIDF_NEG.toarray(),\n",
        "                          columns=count_vect.get_feature_names_out())\n",
        "TFIDF_NEG = matriz_TFIDF_NEG.T.sum(axis=\"columns\").sort_values(ascending=False)"
      ],
      "metadata": {
        "id": "al5BWPOEgZeZ"
      },
      "execution_count": null,
      "outputs": []
    },
    {
      "cell_type": "code",
      "source": [
        "fig, (ax1, ax2) = plt.subplots(1, 2, figsize=(20,7))\n",
        "\n",
        "count_POS[0:10].plot(kind='barh', ax=ax1, color=\"C2\")\n",
        "ax1.set(xlabel='Número de apariciones', ylabel='Token')\n",
        "ax1.set_title((\"Tokens más repetidos para el sentimiento positivo del target\"))\n",
        "\n",
        "count_NEG[0:10].plot(kind='barh', ax=ax2, color = \"C3\")\n",
        "ax2.set(xlabel=\"Número de apariciones\")\n",
        "ax2.set_title((\"Tokens más repetidos para el sentimiento negativo del target\"))"
      ],
      "metadata": {
        "colab": {
          "base_uri": "https://localhost:8080/",
          "height": 463
        },
        "id": "kLzxWKLFy405",
        "outputId": "79ef8d0c-34ad-44f7-b4cf-dee09fcea8c9"
      },
      "execution_count": null,
      "outputs": [
        {
          "output_type": "execute_result",
          "data": {
            "text/plain": [
              "Text(0.5, 1.0, 'Tokens más repetidos para el sentimiento negativo del target')"
            ]
          },
          "metadata": {},
          "execution_count": 35
        },
        {
          "output_type": "display_data",
          "data": {
            "text/plain": [
              "<Figure size 1440x504 with 2 Axes>"
            ],
            "image/png": "[encoded data removed]"
          },
          "metadata": {
            "needs_background": "light"
          }
        }
      ]
    },
    {
      "cell_type": "code",
      "source": [
        "fig, (ax1, ax2) = plt.subplots(1, 2, figsize=(20,7))\n",
        "\n",
        "TFIDF_POS[0:10].plot(kind='barh', ax=ax1)\n",
        "ax1.set(xlabel='TF-IDF', ylabel='Token')\n",
        "ax1.set_title((\"Tokens más relevantes para el sentimiento positivo del target\"))\n",
        "\n",
        "TFIDF_NEG[0:10].plot(kind='barh', ax=ax2)\n",
        "ax2.set(xlabel=\"TF-IDF\")\n",
        "ax2.set_title((\"Tokens más relevantes para el sentimiento negativo del target\"))"
      ],
      "metadata": {
        "id": "FELNkLc40IMf"
      },
      "execution_count": null,
      "outputs": []
    },
    {
      "cell_type": "markdown",
      "source": [
        "Ahora mostramos los bigramas más relevantes según el sentimiento del target."
      ],
      "metadata": {
        "id": "Nbo7H3bGfWXj"
      }
    },
    {
      "cell_type": "code",
      "source": [
        "count_vect = CountVectorizer(ngram_range=(2,2))\n",
        "# POS\n",
        "X_counts_POS = count_vect.fit_transform(df_POS[\"tweet_clean\"])\n",
        "\n",
        "tfidf_transformer = TfidfTransformer(use_idf=True)\n",
        "X_TFIDF_POS = tfidf_transformer.fit_transform(X_counts_POS)\n",
        "\n",
        "matriz_TFIDF_POS = pd.DataFrame(X_TFIDF_POS.toarray(),\n",
        "                          columns=count_vect.get_feature_names_out())\n",
        "TFIDF_POS = matriz_TFIDF_POS.T.sum(axis=\"columns\").sort_values(ascending=False)\n",
        "\n",
        "# NEG\n",
        "X_counts_NEG = count_vect.fit_transform(df_NEG[\"tweet_clean\"])\n",
        "X_TFIDF_NEG = tfidf_transformer.fit_transform(X_counts_NEG)\n",
        "\n",
        "matriz_TFIDF_NEG = pd.DataFrame(X_TFIDF_NEG.toarray(),\n",
        "                          columns=count_vect.get_feature_names_out())\n",
        "TFIDF_NEG = matriz_TFIDF_NEG.T.sum(axis=\"columns\").sort_values(ascending=False)"
      ],
      "metadata": {
        "id": "LG41_i9neH-Y"
      },
      "execution_count": null,
      "outputs": []
    },
    {
      "cell_type": "code",
      "source": [
        "fig, (ax1, ax2) = plt.subplots(1, 2, figsize=(20,7))\n",
        "\n",
        "TFIDF_POS[0:10].plot(kind='barh', ax=ax1, color=\"C2\")\n",
        "ax1.set(xlabel='TF-IDF', ylabel='Bigrama')\n",
        "ax1.set_title((\"Bigramas más relevantes para el sentimiento positivo del target\"))\n",
        "\n",
        "TFIDF_NEG[0:10].plot(kind='barh', ax=ax2, color=\"C3\")\n",
        "ax2.set(xlabel=\"TF-IDF\")\n",
        "ax2.set_title((\"Bigramas más relevantes para el sentimiento negativo del target\"))"
      ],
      "metadata": {
        "colab": {
          "base_uri": "https://localhost:8080/",
          "height": 448
        },
        "id": "A_DbP0QteuU0",
        "outputId": "ed021269-65ba-4104-e0b5-5d98dc0d9d75"
      },
      "execution_count": null,
      "outputs": [
        {
          "output_type": "execute_result",
          "data": {
            "text/plain": [
              "Text(0.5, 1.0, 'Bigramas más relevantes para el sentimiento negativo del target')"
            ]
          },
          "metadata": {},
          "execution_count": 32
        },
        {
          "output_type": "display_data",
          "data": {
            "text/plain": [
              "<Figure size 1440x504 with 2 Axes>"
            ],
            "image/png": "[encoded data removed]"
          },
          "metadata": {
            "needs_background": "light"
          }
        }
      ]
    },
    {
      "cell_type": "markdown",
      "source": [
        "## Corpus de noticias web \n",
        "Veamos la distribución de los datos para el otro corpus proporcionado."
      ],
      "metadata": {
        "id": "mpkK1Z2s7ZLH"
      }
    },
    {
      "cell_type": "code",
      "source": [
        "df2 = pd.read_csv(\"data_web/headings_finanzas_clean.csv\")\n",
        "df2"
      ],
      "metadata": {
        "colab": {
          "base_uri": "https://localhost:8080/",
          "height": 633
        },
        "id": "ehGOS36U7Zla",
        "outputId": "b5a86703-bd1a-48b2-fce7-ab38a12e350f"
      },
      "execution_count": null,
      "outputs": [
        {
          "output_type": "execute_result",
          "data": {
            "text/plain": [
              "           ID                                            Heading  \\\n",
              "0        1360           Apple da el salto al 5G con el iPhone 12   \n",
              "1        3526  Bankinter gana 220 millones hasta septiembre, ...   \n",
              "2        3528  Vueling garantiza el empleo de todos sus pilot...   \n",
              "3        3735  La actividad empresarial de la zona euro se co...   \n",
              "4        4384  Inditex firma un acuerdo para mantener el empl...   \n",
              "...       ...                                                ...   \n",
              "2282  6537317  IPSA cierra al alza el día en que Chile gira e...   \n",
              "2283  6572132  Profeco suspende gasolineras de Shell por irre...   \n",
              "2284  6582599  Guerra entre los comités de Alu Ibérica por el...   \n",
              "2285  6588182  123tinta confía la logística de sus pedidos a MRW   \n",
              "2286  6591955  Ministro de Finanzas alemán propone nuevas pro...   \n",
              "\n",
              "                                     Target  S. Target  S. Others  S. Society  \\\n",
              "0                                     Apple        1.0        0.0         0.0   \n",
              "1                                 Bankinter       -1.0        0.0         0.0   \n",
              "2                                   Vueling        1.0        0.0         1.0   \n",
              "3     actividad empresarial de la zona euro       -1.0       -1.0        -1.0   \n",
              "4                                   Inditex        1.0        0.0         1.0   \n",
              "...                                     ...        ...        ...         ...   \n",
              "2282                                   IPSA        1.0        0.0         0.0   \n",
              "2283                   gasolineras de Shell       -1.0        0.0        -1.0   \n",
              "2284                 comités de Alu Ibérica       -1.0        0.0         0.0   \n",
              "2285                               123tinta        1.0        1.0         0.0   \n",
              "2286            Ministro de Finanzas alemám        1.0        1.0         1.0   \n",
              "\n",
              "                                             text_clean  \n",
              "0                               apple da salto g iphone  \n",
              "1              bankinter gana millones septiembre menos  \n",
              "2                vueling garantiza empleo pilotos final  \n",
              "3     actividad empresarial zona euro contrajo octub...  \n",
              "4     inditex firma acuerdo mantener empleo transfor...  \n",
              "...                                                 ...  \n",
              "2282  ipsa cierra alza día chile gira conducción pol...  \n",
              "2283  profeco suspende gasolineras shell irregularid...  \n",
              "2284           guerra comités alu ibérica acuerdo alcoa  \n",
              "2285                 tinta confía logística pedidos mrw  \n",
              "2286  ministro finanzas alemán propone nuevas prospe...  \n",
              "\n",
              "[2287 rows x 7 columns]"
            ],
            "text/html": [
              "\n",
              "  <div id=\"df-49ceece1-bef5-4ebb-be32-515c6cf7a49b\">\n",
              "    <div class=\"colab-df-container\">\n",
              "      <div>\n",
              "<style scoped>\n",
              "    .dataframe tbody tr th:only-of-type {\n",
              "        vertical-align: middle;\n",
              "    }\n",
              "\n",
              "    .dataframe tbody tr th {\n",
              "        vertical-align: top;\n",
              "    }\n",
              "\n",
              "    .dataframe thead th {\n",
              "        text-align: right;\n",
              "    }\n",
              "</style>\n",
              "<table border=\"1\" class=\"dataframe\">\n",
              "  <thead>\n",
              "    <tr style=\"text-align: right;\">\n",
              "      <th></th>\n",
              "      <th>ID</th>\n",
              "      <th>Heading</th>\n",
              "      <th>Target</th>\n",
              "      <th>S. Target</th>\n",
              "      <th>S. Others</th>\n",
              "      <th>S. Society</th>\n",
              "      <th>text_clean</th>\n",
              "    </tr>\n",
              "  </thead>\n",
              "  <tbody>\n",
              "    <tr>\n",
              "      <th>0</th>\n",
              "      <td>1360</td>\n",
              "      <td>Apple da el salto al 5G con el iPhone 12</td>\n",
              "      <td>Apple</td>\n",
              "      <td>1.0</td>\n",
              "      <td>0.0</td>\n",
              "      <td>0.0</td>\n",
              "      <td>apple da salto g iphone</td>\n",
              "    </tr>\n",
              "    <tr>\n",
              "      <th>1</th>\n",
              "      <td>3526</td>\n",
              "      <td>Bankinter gana 220 millones hasta septiembre, ...</td>\n",
              "      <td>Bankinter</td>\n",
              "      <td>-1.0</td>\n",
              "      <td>0.0</td>\n",
              "      <td>0.0</td>\n",
              "      <td>bankinter gana millones septiembre menos</td>\n",
              "    </tr>\n",
              "    <tr>\n",
              "      <th>2</th>\n",
              "      <td>3528</td>\n",
              "      <td>Vueling garantiza el empleo de todos sus pilot...</td>\n",
              "      <td>Vueling</td>\n",
              "      <td>1.0</td>\n",
              "      <td>0.0</td>\n",
              "      <td>1.0</td>\n",
              "      <td>vueling garantiza empleo pilotos final</td>\n",
              "    </tr>\n",
              "    <tr>\n",
              "      <th>3</th>\n",
              "      <td>3735</td>\n",
              "      <td>La actividad empresarial de la zona euro se co...</td>\n",
              "      <td>actividad empresarial de la zona euro</td>\n",
              "      <td>-1.0</td>\n",
              "      <td>-1.0</td>\n",
              "      <td>-1.0</td>\n",
              "      <td>actividad empresarial zona euro contrajo octub...</td>\n",
              "    </tr>\n",
              "    <tr>\n",
              "      <th>4</th>\n",
              "      <td>4384</td>\n",
              "      <td>Inditex firma un acuerdo para mantener el empl...</td>\n",
              "      <td>Inditex</td>\n",
              "      <td>1.0</td>\n",
              "      <td>0.0</td>\n",
              "      <td>1.0</td>\n",
              "      <td>inditex firma acuerdo mantener empleo transfor...</td>\n",
              "    </tr>\n",
              "    <tr>\n",
              "      <th>...</th>\n",
              "      <td>...</td>\n",
              "      <td>...</td>\n",
              "      <td>...</td>\n",
              "      <td>...</td>\n",
              "      <td>...</td>\n",
              "      <td>...</td>\n",
              "      <td>...</td>\n",
              "    </tr>\n",
              "    <tr>\n",
              "      <th>2282</th>\n",
              "      <td>6537317</td>\n",
              "      <td>IPSA cierra al alza el día en que Chile gira e...</td>\n",
              "      <td>IPSA</td>\n",
              "      <td>1.0</td>\n",
              "      <td>0.0</td>\n",
              "      <td>0.0</td>\n",
              "      <td>ipsa cierra alza día chile gira conducción pol...</td>\n",
              "    </tr>\n",
              "    <tr>\n",
              "      <th>2283</th>\n",
              "      <td>6572132</td>\n",
              "      <td>Profeco suspende gasolineras de Shell por irre...</td>\n",
              "      <td>gasolineras de Shell</td>\n",
              "      <td>-1.0</td>\n",
              "      <td>0.0</td>\n",
              "      <td>-1.0</td>\n",
              "      <td>profeco suspende gasolineras shell irregularid...</td>\n",
              "    </tr>\n",
              "    <tr>\n",
              "      <th>2284</th>\n",
              "      <td>6582599</td>\n",
              "      <td>Guerra entre los comités de Alu Ibérica por el...</td>\n",
              "      <td>comités de Alu Ibérica</td>\n",
              "      <td>-1.0</td>\n",
              "      <td>0.0</td>\n",
              "      <td>0.0</td>\n",
              "      <td>guerra comités alu ibérica acuerdo alcoa</td>\n",
              "    </tr>\n",
              "    <tr>\n",
              "      <th>2285</th>\n",
              "      <td>6588182</td>\n",
              "      <td>123tinta confía la logística de sus pedidos a MRW</td>\n",
              "      <td>123tinta</td>\n",
              "      <td>1.0</td>\n",
              "      <td>1.0</td>\n",
              "      <td>0.0</td>\n",
              "      <td>tinta confía logística pedidos mrw</td>\n",
              "    </tr>\n",
              "    <tr>\n",
              "      <th>2286</th>\n",
              "      <td>6591955</td>\n",
              "      <td>Ministro de Finanzas alemán propone nuevas pro...</td>\n",
              "      <td>Ministro de Finanzas alemám</td>\n",
              "      <td>1.0</td>\n",
              "      <td>1.0</td>\n",
              "      <td>1.0</td>\n",
              "      <td>ministro finanzas alemán propone nuevas prospe...</td>\n",
              "    </tr>\n",
              "  </tbody>\n",
              "</table>\n",
              "<p>2287 rows × 7 columns</p>\n",
              "</div>\n",
              "      <button class=\"colab-df-convert\" onclick=\"convertToInteractive('df-49ceece1-bef5-4ebb-be32-515c6cf7a49b')\"\n",
              "              title=\"Convert this dataframe to an interactive table.\"\n",
              "              style=\"display:none;\">\n",
              "        \n",
              "  <svg xmlns=\"http://www.w3.org/2000/svg\" height=\"24px\"viewBox=\"0 0 24 24\"\n",
              "       width=\"24px\">\n",
              "    <path d=\"M0 0h24v24H0V0z\" fill=\"none\"/>\n",
              "    <path d=\"M18.56 5.44l.94 2.06.94-2.06 2.06-.94-2.06-.94-.94-2.06-.94 2.06-2.06.94zm-11 1L8.5 8.5l.94-2.06 2.06-.94-2.06-.94L8.5 2.5l-.94 2.06-2.06.94zm10 10l.94 2.06.94-2.06 2.06-.94-2.06-.94-.94-2.06-.94 2.06-2.06.94z\"/><path d=\"M17.41 7.96l-1.37-1.37c-.4-.4-.92-.59-1.43-.59-.52 0-1.04.2-1.43.59L10.3 9.45l-7.72 7.72c-.78.78-.78 2.05 0 2.83L4 21.41c.39.39.9.59 1.41.59.51 0 1.02-.2 1.41-.59l7.78-7.78 2.81-2.81c.8-.78.8-2.07 0-2.86zM5.41 20L4 18.59l7.72-7.72 1.47 1.35L5.41 20z\"/>\n",
              "  </svg>\n",
              "      </button>\n",
              "      \n",
              "  <style>\n",
              "    .colab-df-container {\n",
              "      display:flex;\n",
              "      flex-wrap:wrap;\n",
              "      gap: 12px;\n",
              "    }\n",
              "\n",
              "    .colab-df-convert {\n",
              "      background-color: #E8F0FE;\n",
              "      border: none;\n",
              "      border-radius: 50%;\n",
              "      cursor: pointer;\n",
              "      display: none;\n",
              "      fill: #1967D2;\n",
              "      height: 32px;\n",
              "      padding: 0 0 0 0;\n",
              "      width: 32px;\n",
              "    }\n",
              "\n",
              "    .colab-df-convert:hover {\n",
              "      background-color: #E2EBFA;\n",
              "      box-shadow: 0px 1px 2px rgba(60, 64, 67, 0.3), 0px 1px 3px 1px rgba(60, 64, 67, 0.15);\n",
              "      fill: #174EA6;\n",
              "    }\n",
              "\n",
              "    [theme=dark] .colab-df-convert {\n",
              "      background-color: #3B4455;\n",
              "      fill: #D2E3FC;\n",
              "    }\n",
              "\n",
              "    [theme=dark] .colab-df-convert:hover {\n",
              "      background-color: #434B5C;\n",
              "      box-shadow: 0px 1px 3px 1px rgba(0, 0, 0, 0.15);\n",
              "      filter: drop-shadow(0px 1px 2px rgba(0, 0, 0, 0.3));\n",
              "      fill: #FFFFFF;\n",
              "    }\n",
              "  </style>\n",
              "\n",
              "      <script>\n",
              "        const buttonEl =\n",
              "          document.querySelector('#df-49ceece1-bef5-4ebb-be32-515c6cf7a49b button.colab-df-convert');\n",
              "        buttonEl.style.display =\n",
              "          google.colab.kernel.accessAllowed ? 'block' : 'none';\n",
              "\n",
              "        async function convertToInteractive(key) {\n",
              "          const element = document.querySelector('#df-49ceece1-bef5-4ebb-be32-515c6cf7a49b');\n",
              "          const dataTable =\n",
              "            await google.colab.kernel.invokeFunction('convertToInteractive',\n",
              "                                                     [key], {});\n",
              "          if (!dataTable) return;\n",
              "\n",
              "          const docLinkHtml = 'Like what you see? Visit the ' +\n",
              "            '<a target=\"_blank\" href=https://colab.research.google.com/notebooks/data_table.ipynb>data table notebook</a>'\n",
              "            + ' to learn more about interactive tables.';\n",
              "          element.innerHTML = '';\n",
              "          dataTable['output_type'] = 'display_data';\n",
              "          await google.colab.output.renderOutput(dataTable, element);\n",
              "          const docLink = document.createElement('div');\n",
              "          docLink.innerHTML = docLinkHtml;\n",
              "          element.appendChild(docLink);\n",
              "        }\n",
              "      </script>\n",
              "    </div>\n",
              "  </div>\n",
              "  "
            ]
          },
          "metadata": {},
          "execution_count": 2
        }
      ]
    },
    {
      "cell_type": "code",
      "source": [
        "fig, (ax1, ax2, ax3) = plt.subplots(1, 3, figsize=(15,4))\n",
        "\n",
        "df2['S. Target'].value_counts(normalize=True).loc[[-1.0, 0.0, 1.0]].plot(kind='bar', \n",
        "                                                                        ax=ax1, \n",
        "                                                                        color=[\"C3\", \"C1\", \"C2\"])\n",
        "ax1.tick_params(labelrotation=0)\n",
        "labels = [item.get_text() for item in ax1.get_xticklabels()]\n",
        "labels[0] = 'NEG'\n",
        "labels[1] = 'NEU'\n",
        "labels[2] = 'POS'\n",
        "ax1.set_xticklabels(labels)\n",
        "\n",
        "ax1.set_ylabel('Porcentaje')\n",
        "ax1.set_xlabel('Sentimiento')\n",
        "ax1.set_title((\"Distribución de sentimiento target\"))\n",
        "\n",
        "\n",
        "df2['S. Society'].value_counts(normalize=True).loc[[-1.0, 0.0, 1.0]].plot(kind='bar', \n",
        "                                                                        ax=ax2,\n",
        "                                                                        color=[\"C3\", \"C1\", \"C2\"])\n",
        "ax2.tick_params(labelrotation=0)\n",
        "ax2.set_xticklabels(labels)\n",
        "ax2.set_xlabel('Sentimiento')\n",
        "ax2.set_title((\"Distribución de sentimiento sociedad\"))\n",
        "\n",
        "\n",
        "df2['S. Others'].value_counts(normalize=True).loc[[-1.0, 0.0, 1.0]].plot(kind='bar', \n",
        "                                                                         ax=ax3,\n",
        "                                                                         color=[\"C3\", \"C1\", \"C2\"])\n",
        "ax3.tick_params(labelrotation=0)\n",
        "ax3.set_xticklabels(labels)\n",
        "ax3.set_xlabel('Sentimiento')\n",
        "ax3.set_title((\"Distribución de sentimiento empresas\"))"
      ],
      "metadata": {
        "colab": {
          "base_uri": "https://localhost:8080/",
          "height": 312
        },
        "id": "YyV8P3y_8kPi",
        "outputId": "829c3a14-369b-4d8e-a275-82b134c52e90"
      },
      "execution_count": null,
      "outputs": [
        {
          "output_type": "execute_result",
          "data": {
            "text/plain": [
              "Text(0.5, 1.0, 'Distribución de sentimiento empresas')"
            ]
          },
          "metadata": {},
          "execution_count": 3
        },
        {
          "output_type": "display_data",
          "data": {
            "text/plain": [
              "<Figure size 1080x288 with 3 Axes>"
            ],
            "image/png": "[encoded data removed]"
          },
          "metadata": {
            "needs_background": "light"
          }
        }
      ]
    },
    {
      "cell_type": "code",
      "source": [
        "df2_POS = df2.loc[df2[\"S. Target\"]== 1]\n",
        "df2_NEG = df2.loc[df2[\"S. Target\"]== -1]\n",
        "df2_NEU = df2.loc[df2[\"S. Target\"]== 0]"
      ],
      "metadata": {
        "id": "ohn7D5Q0GNPG"
      },
      "execution_count": null,
      "outputs": []
    },
    {
      "cell_type": "code",
      "source": [
        "# POS\n",
        "count_vect = CountVectorizer(ngram_range=(1,1))\n",
        "X_counts2_POS = count_vect.fit_transform(df2_POS[\"text_clean\"])\n",
        "\n",
        "matriz2_POS = pd.DataFrame(X_counts2_POS.toarray(),\n",
        "                          columns=count_vect.get_feature_names_out())\n",
        "matriz2_POS = matriz2_POS.T.sort_values(by=0, ascending=False)\n",
        "\n",
        "count2_POS = matriz2_POS.sum(axis='columns').sort_values(ascending=False)\n",
        "\n",
        "# NEG\n",
        "X_counts2_NEG = count_vect.fit_transform(df2_NEG[\"text_clean\"])\n",
        "\n",
        "matriz2_NEG = pd.DataFrame(X_counts2_NEG.toarray(),\n",
        "                          columns=count_vect.get_feature_names_out())\n",
        "matriz2_NEG = matriz2_NEG.T.sort_values(by=0, ascending=False)\n",
        "\n",
        "count2_NEG = matriz2_NEG.sum(axis=\"columns\").sort_values(ascending=False)\n",
        "\n",
        "# NEU\n",
        "X_counts2_NEU = count_vect.fit_transform(df2_NEU[\"text_clean\"])\n",
        "\n",
        "matriz2_NEU = pd.DataFrame(X_counts2_NEU.toarray(),\n",
        "                          columns=count_vect.get_feature_names_out())\n",
        "matriz2_NEU = matriz2_NEU.T.sort_values(by=0, ascending=False)\n",
        "\n",
        "count2_NEU = matriz2_NEU.sum(axis=\"columns\").sort_values(ascending=False)"
      ],
      "metadata": {
        "id": "l2b7hoIOIy0q"
      },
      "execution_count": null,
      "outputs": []
    },
    {
      "cell_type": "code",
      "source": [
        "fig, (ax1, ax2, ax3) = plt.subplots(1, 3, figsize=(20,7))\n",
        "\n",
        "count2_NEG[0:10].plot(kind='barh', ax=ax1, color = \"C3\")\n",
        "ax1.set(xlabel=\"Número de apariciones\", ylabel='Token')\n",
        "ax1.set_title((\"Tokens más repetidos para el sentimiento negativo del target\"))\n",
        "\n",
        "count2_NEU[0:10].plot(kind='barh', ax=ax2, color = \"C1\")\n",
        "ax2.set(xlabel=\"Número de apariciones\")\n",
        "ax2.set_title((\"Tokens más repetidos para el sentimiento neutro del target\"))\n",
        "\n",
        "count2_POS[0:10].plot(kind='barh', ax=ax3, color=\"C2\")\n",
        "ax3.set(xlabel='Número de apariciones')\n",
        "ax3.set_title((\"Tokens más repetidos para el sentimiento positivo del target\"))\n",
        "\n"
      ],
      "metadata": {
        "colab": {
          "base_uri": "https://localhost:8080/",
          "height": 454
        },
        "id": "zdL43LA5JLCx",
        "outputId": "3568369c-29c7-4e2b-c162-49f2d4aff145"
      },
      "execution_count": null,
      "outputs": [
        {
          "output_type": "execute_result",
          "data": {
            "text/plain": [
              "Text(0.5, 1.0, 'Tokens más repetidos para el sentimiento positivo del target')"
            ]
          },
          "metadata": {},
          "execution_count": 6
        },
        {
          "output_type": "display_data",
          "data": {
            "text/plain": [
              "<Figure size 1440x504 with 3 Axes>"
            ],
            "image/png": "[encoded data removed]"
          },
          "metadata": {
            "needs_background": "light"
          }
        }
      ]
    },
    {
      "cell_type": "code",
      "source": [
        "count_vect = CountVectorizer(ngram_range=(2,2))\n",
        "# POS\n",
        "X_counts2_POS = count_vect.fit_transform(df2_POS[\"text_clean\"])\n",
        "\n",
        "tfidf_transformer = TfidfTransformer(use_idf=True)\n",
        "X_TFIDF2_POS = tfidf_transformer.fit_transform(X_counts2_POS)\n",
        "\n",
        "matriz2_TFIDF_POS = pd.DataFrame(X_TFIDF2_POS.toarray(),\n",
        "                          columns=count_vect.get_feature_names_out())\n",
        "TFIDF2_POS = matriz2_TFIDF_POS.T.sum(axis=\"columns\").sort_values(ascending=False)\n",
        "\n",
        "# NEG\n",
        "X_counts2_NEG = count_vect.fit_transform(df2_NEG[\"text_clean\"])\n",
        "X_TFIDF2_NEG = tfidf_transformer.fit_transform(X_counts2_NEG)\n",
        "\n",
        "matriz2_TFIDF_NEG = pd.DataFrame(X_TFIDF2_NEG.toarray(),\n",
        "                          columns=count_vect.get_feature_names_out())\n",
        "TFIDF2_NEG = matriz2_TFIDF_NEG.T.sum(axis=\"columns\").sort_values(ascending=False)\n",
        "\n",
        "# NEU\n",
        "X_counts2_NEU = count_vect.fit_transform(df2_NEU[\"text_clean\"])\n",
        "X_TFIDF2_NEU = tfidf_transformer.fit_transform(X_counts2_NEU)\n",
        "\n",
        "matriz2_TFIDF_NEU = pd.DataFrame(X_TFIDF2_NEU.toarray(),\n",
        "                          columns=count_vect.get_feature_names_out())\n",
        "TFIDF2_NEU = matriz2_TFIDF_NEU.T.sum(axis=\"columns\").sort_values(ascending=False)"
      ],
      "metadata": {
        "id": "m6pF3wjbJYFj"
      },
      "execution_count": null,
      "outputs": []
    },
    {
      "cell_type": "code",
      "source": [
        "fig, (ax1, ax2, ax3) = plt.subplots(3, 1, figsize=(7,20))\n",
        "\n",
        "TFIDF2_NEG[0:10].plot(kind='barh', ax=ax1, color=\"C3\")\n",
        "ax1.set(xlabel=\"TF-IDF\", ylabel='Bigrama')\n",
        "ax1.set_title((\"Bigramas más relevantes para el sentimiento negativo del target\"))\n",
        "\n",
        "TFIDF2_NEU[0:10].plot(kind='barh', ax=ax2, color=\"C1\")\n",
        "ax2.set(xlabel=\"TF-IDF\")\n",
        "ax2.set_title((\"Bigramas más relevantes para el sentimiento neutro del target\"))\n",
        "\n",
        "TFIDF2_POS[0:10].plot(kind='barh', ax=ax3, color=\"C2\")\n",
        "ax3.set(xlabel='TF-IDF')\n",
        "ax3.set_title((\"Bigramas más relevantes para el sentimiento positivo del target\"))"
      ],
      "metadata": {
        "colab": {
          "base_uri": "https://localhost:8080/",
          "height": 1000
        },
        "id": "Opg-QxqtJp7b",
        "outputId": "b829b2a3-d944-41e9-f1da-0ef5c3cfc51e"
      },
      "execution_count": null,
      "outputs": [
        {
          "output_type": "execute_result",
          "data": {
            "text/plain": [
              "Text(0.5, 1.0, 'Bigramas más relevantes para el sentimiento positivo del target')"
            ]
          },
          "metadata": {},
          "execution_count": 12
        },
        {
          "output_type": "display_data",
          "data": {
            "text/plain": [
              "<Figure size 504x1440 with 3 Axes>"
            ],
            "image/png": "[encoded data removed]"
          },
          "metadata": {
            "needs_background": "light"
          }
        }
      ]
    }
  ]
}