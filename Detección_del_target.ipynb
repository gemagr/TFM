{
  "cells": [
    {
      "cell_type": "markdown",
      "metadata": {
        "id": "mJtsYai24xUf"
      },
      "source": [
        "# Detección del target y entidades\n"
      ]
    },
    {
      "cell_type": "code",
      "execution_count": null,
      "metadata": {
        "colab": {
          "base_uri": "https://localhost:8080/",
          "height": 1000,
          "referenced_widgets": [
            "b557315a067e4a3fa622e43350a0e0e9",
            "a9a5c292443e4b16ab8dd698a1b0e31a",
            "b62fa8dd268e4a6fb1987679486fc976",
            "bfcb6dcf76e0468999cc41900b6d5bea",
            "35132f357117451390bdd6f6e97dbf16",
            "c3051836185c4eb686021137e173aa1b",
            "0b925605facc4f93bf09b464410a5cee",
            "f41ff8020745486e8f101c17e7d05cd3",
            "793c16bec0344b4a98581e7cb254f238",
            "b3617f88b96d43598b73fe20d2ccf3c1",
            "de303cb6fd9d41d1b73836650b5d6507",
            "6e0ac0490eb74fd29fe0a34228fabbed",
            "12f843bd38ae443187c72a12f79998b5",
            "0782a879cec0441595e930a8dd7efc5e",
            "46ed80b7be59477d8e4ade92f50b397b",
            "18b6f842ff6b45cca6f59d15a6fe8a71",
            "ff19a2d7ffd747d3a69646b8a4e50b2d",
            "10d9650a387046f89ca67cdb0b77ee7c",
            "a789e9f4f4b94a748932da912f0aa4ad",
            "b3ff454288ae46008b680846e7c0bb56",
            "4df16fe19a6f48d991e22503b8a8fdd9",
            "b7bb4f86c4584df295563568ae143c0e",
            "90ac4a529a804733bf908a1164322f17",
            "cde09037f76745c3a501ee93c0ef9596",
            "308419ea43df41dfa686728330ef2a93",
            "240f7dbb1a1e43bf9bd51d459bc04d90",
            "658d760c7e5e41c3af8b3bb8aebe5405",
            "6a0f2734d4b44e4ca117de559bfc325c",
            "ed7146775d07427eb2409880c481bbd1",
            "f4542bbf3dc949d4a04262bb6bf6f010",
            "bfdf0c385977487c9ab5f805ec6e00fd",
            "f2bc1420adcd4133ad40e442583adf94",
            "2ffbaaa637884f61b42aa5818f2f3e62"
          ]
        },
        "id": "XInTmhZ2U68b",
        "outputId": "d0263036-157c-4414-cff3-71a9470ee6b7"
      },
      "outputs": [
        {
          "output_type": "stream",
          "name": "stdout",
          "text": [
            "Looking in indexes: https://pypi.org/simple, https://us-python.pkg.dev/colab-wheels/public/simple/\n",
            "Collecting stanza\n",
            "  Downloading stanza-1.4.0-py3-none-any.whl (574 kB)\n",
            "\u001b[K     |████████████████████████████████| 574 kB 6.4 MB/s \n",
            "\u001b[?25hRequirement already satisfied: numpy in /usr/local/lib/python3.7/dist-packages (from stanza) (1.21.6)\n",
            "Requirement already satisfied: torch>=1.3.0 in /usr/local/lib/python3.7/dist-packages (from stanza) (1.11.0+cu113)\n",
            "Collecting transformers\n",
            "  Downloading transformers-4.20.1-py3-none-any.whl (4.4 MB)\n",
            "\u001b[K     |████████████████████████████████| 4.4 MB 44.7 MB/s \n",
            "\u001b[?25hRequirement already satisfied: requests in /usr/local/lib/python3.7/dist-packages (from stanza) (2.23.0)\n",
            "Requirement already satisfied: protobuf in /usr/local/lib/python3.7/dist-packages (from stanza) (3.17.3)\n",
            "Requirement already satisfied: six in /usr/local/lib/python3.7/dist-packages (from stanza) (1.15.0)\n",
            "Collecting emoji\n",
            "  Downloading emoji-1.7.0.tar.gz (175 kB)\n",
            "\u001b[K     |████████████████████████████████| 175 kB 56.6 MB/s \n",
            "\u001b[?25hRequirement already satisfied: tqdm in /usr/local/lib/python3.7/dist-packages (from stanza) (4.64.0)\n",
            "Requirement already satisfied: typing-extensions in /usr/local/lib/python3.7/dist-packages (from torch>=1.3.0->stanza) (4.1.1)\n",
            "Requirement already satisfied: idna<3,>=2.5 in /usr/local/lib/python3.7/dist-packages (from requests->stanza) (2.10)\n",
            "Requirement already satisfied: chardet<4,>=3.0.2 in /usr/local/lib/python3.7/dist-packages (from requests->stanza) (3.0.4)\n",
            "Requirement already satisfied: certifi>=2017.4.17 in /usr/local/lib/python3.7/dist-packages (from requests->stanza) (2022.6.15)\n",
            "Requirement already satisfied: urllib3!=1.25.0,!=1.25.1,<1.26,>=1.21.1 in /usr/local/lib/python3.7/dist-packages (from requests->stanza) (1.24.3)\n",
            "Requirement already satisfied: filelock in /usr/local/lib/python3.7/dist-packages (from transformers->stanza) (3.7.1)\n",
            "Requirement already satisfied: importlib-metadata in /usr/local/lib/python3.7/dist-packages (from transformers->stanza) (4.11.4)\n",
            "Requirement already satisfied: packaging>=20.0 in /usr/local/lib/python3.7/dist-packages (from transformers->stanza) (21.3)\n",
            "Collecting tokenizers!=0.11.3,<0.13,>=0.11.1\n",
            "  Downloading tokenizers-0.12.1-cp37-cp37m-manylinux_2_12_x86_64.manylinux2010_x86_64.whl (6.6 MB)\n",
            "\u001b[K     |████████████████████████████████| 6.6 MB 44.0 MB/s \n",
            "\u001b[?25hCollecting pyyaml>=5.1\n",
            "  Downloading PyYAML-6.0-cp37-cp37m-manylinux_2_5_x86_64.manylinux1_x86_64.manylinux_2_12_x86_64.manylinux2010_x86_64.whl (596 kB)\n",
            "\u001b[K     |████████████████████████████████| 596 kB 50.7 MB/s \n",
            "\u001b[?25hRequirement already satisfied: regex!=2019.12.17 in /usr/local/lib/python3.7/dist-packages (from transformers->stanza) (2022.6.2)\n",
            "Collecting huggingface-hub<1.0,>=0.1.0\n",
            "  Downloading huggingface_hub-0.8.1-py3-none-any.whl (101 kB)\n",
            "\u001b[K     |████████████████████████████████| 101 kB 13.5 MB/s \n",
            "\u001b[?25hRequirement already satisfied: pyparsing!=3.0.5,>=2.0.2 in /usr/local/lib/python3.7/dist-packages (from packaging>=20.0->transformers->stanza) (3.0.9)\n",
            "Requirement already satisfied: zipp>=0.5 in /usr/local/lib/python3.7/dist-packages (from importlib-metadata->transformers->stanza) (3.8.0)\n",
            "Building wheels for collected packages: emoji\n",
            "  Building wheel for emoji (setup.py) ... \u001b[?25l\u001b[?25hdone\n",
            "  Created wheel for emoji: filename=emoji-1.7.0-py3-none-any.whl size=171046 sha256=202ebf6df7495b07272a79515328bf3515941bcf0e7086022bf3a9603029bd2f\n",
            "  Stored in directory: /root/.cache/pip/wheels/8a/4e/b6/57b01db010d17ef6ea9b40300af725ef3e210cb1acfb7ac8b6\n",
            "Successfully built emoji\n",
            "Installing collected packages: pyyaml, tokenizers, huggingface-hub, transformers, emoji, stanza\n",
            "  Attempting uninstall: pyyaml\n",
            "    Found existing installation: PyYAML 3.13\n",
            "    Uninstalling PyYAML-3.13:\n",
            "      Successfully uninstalled PyYAML-3.13\n",
            "Successfully installed emoji-1.7.0 huggingface-hub-0.8.1 pyyaml-6.0 stanza-1.4.0 tokenizers-0.12.1 transformers-4.20.1\n"
          ]
        },
        {
          "output_type": "display_data",
          "data": {
            "text/plain": [
              "Downloading https://raw.githubusercontent.com/stanfordnlp/stanza-resources/main/resources_1.4.0.json:   0%|   …"
            ],
            "application/vnd.jupyter.widget-view+json": {
              "version_major": 2,
              "version_minor": 0,
              "model_id": "b557315a067e4a3fa622e43350a0e0e9"
            }
          },
          "metadata": {}
        },
        {
          "output_type": "stream",
          "name": "stderr",
          "text": [
            "2022-06-28 15:17:43 INFO: Downloading default packages for language: es (Spanish)...\n"
          ]
        },
        {
          "output_type": "display_data",
          "data": {
            "text/plain": [
              "Downloading https://huggingface.co/stanfordnlp/stanza-es/resolve/v1.4.0/models/default.zip:   0%|          | 0…"
            ],
            "application/vnd.jupyter.widget-view+json": {
              "version_major": 2,
              "version_minor": 0,
              "model_id": "6e0ac0490eb74fd29fe0a34228fabbed"
            }
          },
          "metadata": {}
        },
        {
          "output_type": "stream",
          "name": "stderr",
          "text": [
            "2022-06-28 15:17:52 INFO: Finished downloading models and saved to /root/stanza_resources.\n"
          ]
        },
        {
          "output_type": "display_data",
          "data": {
            "text/plain": [
              "Downloading https://raw.githubusercontent.com/stanfordnlp/stanza-resources/main/resources_1.4.0.json:   0%|   …"
            ],
            "application/vnd.jupyter.widget-view+json": {
              "version_major": 2,
              "version_minor": 0,
              "model_id": "90ac4a529a804733bf908a1164322f17"
            }
          },
          "metadata": {}
        },
        {
          "output_type": "stream",
          "name": "stderr",
          "text": [
            "2022-06-28 15:17:54 INFO: Loading these models for language: es (Spanish):\n",
            "=======================\n",
            "| Processor | Package |\n",
            "-----------------------\n",
            "| tokenize  | ancora  |\n",
            "| mwt       | ancora  |\n",
            "| pos       | ancora  |\n",
            "| lemma     | ancora  |\n",
            "| depparse  | ancora  |\n",
            "| ner       | conll02 |\n",
            "=======================\n",
            "\n",
            "2022-06-28 15:17:54 INFO: Use device: gpu\n",
            "2022-06-28 15:17:54 INFO: Loading: tokenize\n",
            "2022-06-28 15:18:06 INFO: Loading: mwt\n",
            "2022-06-28 15:18:06 INFO: Loading: pos\n",
            "2022-06-28 15:18:07 INFO: Loading: lemma\n",
            "2022-06-28 15:18:07 INFO: Loading: depparse\n",
            "2022-06-28 15:18:07 INFO: Loading: ner\n",
            "2022-06-28 15:18:10 INFO: Done loading processors!\n"
          ]
        }
      ],
      "source": [
        "import pandas as pd\n",
        "import re\n",
        "from matplotlib import pyplot as plt\n",
        "!pip3 install stanza\n",
        "import stanza\n",
        "stanza.download('es')\n",
        "nlp = stanza.Pipeline(lang='es', processors='tokenize, mwt, pos, lemma, depparse, ner')"
      ]
    },
    {
      "cell_type": "markdown",
      "source": [
        "## Corpus TFM"
      ],
      "metadata": {
        "id": "24QIYhbg46Qm"
      }
    },
    {
      "cell_type": "code",
      "execution_count": null,
      "metadata": {
        "id": "OAShMhooLYmG"
      },
      "outputs": [],
      "source": [
        "df = pd.read_csv(\"data_twitter/tweets_finanzas.csv\", delimiter=\";\")\n",
        "df[\"Tweet\"] = df[\"Tweet\"].apply(lambda x: re.sub(r'http\\S+', '',x))\n",
        "df[\"Tweet\"] = df[\"Tweet\"].apply(lambda x: re.sub(r'[^\\w\\s]', '', x.strip()))\n",
        "list_tweets = df[\"Tweet\"].tolist()\n",
        "list_targets = df[\"Target\"].tolist()"
      ]
    },
    {
      "cell_type": "code",
      "execution_count": null,
      "metadata": {
        "id": "Jwu1Dptwg3Au"
      },
      "outputs": [],
      "source": [
        "def analisis(text):\n",
        "    dict_analisis = {\n",
        "        'nsubj' : [],\n",
        "        'obj' : []\n",
        "    }\n",
        "    list_words = []\n",
        "    for sent in  nlp(text).sentences:\n",
        "        for word in sent.words:\n",
        "            if word.deprel  == \"nsubj\":\n",
        "                dict_analisis[\"nsubj\"].append(word.text)\n",
        "                list_words.append(word.text)\n",
        "            elif word.deprel  == \"obj\":\n",
        "                dict_analisis[\"obj\"].append(word.text)\n",
        "                list_words.append(word.text)\n",
        "    #return indirect_object, Object, clausal_subject,nominal_subject\n",
        "    return dict_analisis"
      ]
    },
    {
      "cell_type": "code",
      "execution_count": null,
      "metadata": {
        "id": "9mW4rIPaYdVN"
      },
      "outputs": [],
      "source": [
        "# Definimos la función que extraerá la entidad y su tipo\n",
        "def entidadesText(text):\n",
        "  dict_ent = {\n",
        "      'PER' : [],\n",
        "      'ORG' : [],\n",
        "      'LOC' : [],\n",
        "      'MISC' : []\n",
        "  }\n",
        "  listEnt= nlp(text).ents\n",
        "  for ent in nlp(text).ents:\n",
        "    if ent.type == \"PER\":\n",
        "      dict_ent[\"PER\"].append(ent.text)\n",
        "    elif ent.type == \"ORG\":\n",
        "      dict_ent[\"ORG\"].append(ent.text)\n",
        "    elif ent.type == \"LOC\":\n",
        "      dict_ent[\"LOC\"].append(ent.text)\n",
        "    elif ent.type == \"MISC\":\n",
        "      dict_ent[\"MISC\"].append(ent.text) \n",
        "\n",
        "  #listEnt= [(ent.text, ent.type) for ent in nlp(text).ents]\n",
        "  return dict_ent"
      ]
    },
    {
      "cell_type": "code",
      "execution_count": null,
      "metadata": {
        "id": "6lNQupg8B3Ue"
      },
      "outputs": [],
      "source": [
        "def get_target_ent(list_texts, list_target):\n",
        "  col_pred_target = []\n",
        "  col_dependencia = []\n",
        "  col_pred_ent = []\n",
        "  k = 0\n",
        "  target = False\n",
        "  ent = False\n",
        "\n",
        "  for text in list_texts:\n",
        "    text_analisis = analisis(text)\n",
        "    # Comprobamos que el target esté en la lista extraída del análisis,\n",
        "    # sino es así añadimos 'None' para indicar que el target no se ha identificado\n",
        "    for key in text_analisis.keys():\n",
        "      for word in text_analisis[key]:\n",
        "        if (word in list_target[k]):\n",
        "          target = True\n",
        "          pred_traget = word\n",
        "          col_pred_target.append(word)\n",
        "          col_dependencia.append(key)\n",
        "          break\n",
        "      else:\n",
        "        continue\n",
        "      break\n",
        "\n",
        "    if not target:\n",
        "      col_pred_target.append('None')\n",
        "      col_dependencia.append('None')\n",
        "      col_pred_ent.append('None')\n",
        "\n",
        "    text_entidades = entidadesText(text)\n",
        "    if target:\n",
        "      for key in text_entidades.keys():\n",
        "        for word in text_entidades[key]:\n",
        "          if (word == list_target[k]):\n",
        "            ent = True\n",
        "            col_pred_ent.append(key)\n",
        "            break\n",
        "        else:\n",
        "          continue\n",
        "        break\n",
        "      \n",
        "      if not ent:\n",
        "        col_pred_ent.append(\"OTHER\")\n",
        "\n",
        "    ent =False  \n",
        "    target = False\n",
        "    k = k+1\n",
        "\n",
        "  return col_pred_target, col_dependencia, col_pred_ent"
      ]
    },
    {
      "cell_type": "code",
      "execution_count": null,
      "metadata": {
        "id": "Njs-RiDWC2o4"
      },
      "outputs": [],
      "source": [
        "cols_target_ent = get_target_ent(list_tweets, list_targets)"
      ]
    },
    {
      "cell_type": "code",
      "execution_count": null,
      "metadata": {
        "id": "ZeDSw6BwgGua"
      },
      "outputs": [],
      "source": [
        "df_ent = df.loc[:, [\"Tweet\", \"Target\"]]\n",
        "df_ent[\"pred_target\"] = cols_target_ent[0]\n",
        "df_ent[\"dependencia\"] = cols_target_ent[1]\n",
        "df_ent[\"pred_entidad\"] = cols_target_ent[2]\n",
        "df_ent.to_csv(\"data_twitter/tweets_finanzas_entidades.csv\", sep=';', index=False)"
      ]
    },
    {
      "cell_type": "code",
      "execution_count": null,
      "metadata": {
        "colab": {
          "base_uri": "https://localhost:8080/",
          "height": 472
        },
        "id": "lDTF7OYONfr-",
        "outputId": "b14fc490-2115-4d66-a634-9f5983c95101"
      },
      "outputs": [
        {
          "output_type": "execute_result",
          "data": {
            "text/plain": [
              "Text(0.5, 1.0, 'Distribución de las entidades del target')"
            ]
          },
          "metadata": {},
          "execution_count": 57
        },
        {
          "output_type": "display_data",
          "data": {
            "text/plain": [
              "<Figure size 1440x504 with 2 Axes>"
            ],
            "image/png": "[encoded data removed]"
          },
          "metadata": {
            "needs_background": "light"
          }
        }
      ],
      "source": [
        "fig, (ax1, ax2) = plt.subplots(1, 2, figsize=(20,7))\n",
        "\n",
        "df_ent['dependencia'].value_counts(normalize=True).plot(kind='bar', ax=ax1)\n",
        "ax1.tick_params(labelrotation=0)\n",
        "ax1.set(ylabel='Porcentaje de apariciones', xlabel='Dependencia morfológica')\n",
        "ax1.set_title((\"Distribución de las dependencias morfológicas del target\"))\n",
        "\n",
        "df_ent['pred_entidad'].value_counts(normalize=True).plot(kind='bar', ax=ax2)\n",
        "ax2.tick_params(labelrotation=0)\n",
        "ax2.set(xlabel=\"Entidades\")\n",
        "ax2.set_title((\"Distribución de las entidades del target\"))"
      ]
    },
    {
      "cell_type": "code",
      "execution_count": null,
      "metadata": {
        "colab": {
          "base_uri": "https://localhost:8080/"
        },
        "id": "_ivVpMx1O9nE",
        "outputId": "e60cd35c-cb7f-4823-b476-147294172595"
      },
      "outputs": [
        {
          "output_type": "stream",
          "name": "stdout",
          "text": [
            "Distribución de las dependencias morfológicas del target:\n",
            "\n",
            "nsubj    53.960784\n",
            "None     33.960784\n",
            "obj      12.078431\n",
            "Name: dependencia, dtype: float64\n",
            "---------------------------------------------------------\n",
            "Distribución de las entidades del target:\n",
            "\n",
            "None     33.960784\n",
            "OTHER    32.313725\n",
            "ORG      24.000000\n",
            "LOC       3.843137\n",
            "MISC      2.980392\n",
            "PER       2.901961\n",
            "Name: pred_entidad, dtype: float64\n"
          ]
        }
      ],
      "source": [
        "print(\"Distribución de las dependencias morfológicas del target:\\n\")\n",
        "print(df_ent['dependencia'].value_counts(normalize=True)*100)\n",
        "print(\"---------------------------------------------------------\")\n",
        "print(\"Distribución de las entidades del target:\\n\")\n",
        "print(df_ent['pred_entidad'].value_counts(normalize=True)*100)"
      ]
    },
    {
      "cell_type": "markdown",
      "source": [
        "## Corpus proporcionado"
      ],
      "metadata": {
        "id": "kVaO3vB25HQP"
      }
    },
    {
      "cell_type": "code",
      "execution_count": null,
      "metadata": {
        "id": "cHBrUdIA5Md1"
      },
      "outputs": [],
      "source": [
        "df2 = pd.read_csv(\"data_web/economy-dataset.csv\")\n",
        "df2 = df2.dropna()\n",
        "df2[\"Heading\"] = df2[\"Heading\"].apply(lambda x: re.sub(r'[^\\w\\s]', '', x.strip()))\n",
        "df2[\"Heading\"] = df2[\"Heading\"].apply(lambda x: re.sub('[0-9]+', '', x))\n",
        "df2[\"Target\"] = df2[\"Target\"].apply(lambda x: re.sub('[0-9]+', '', str(x)))\n",
        "list_tweets2 = df2[\"Heading\"].tolist()\n",
        "list_targets2 = df2[\"Target\"].tolist()"
      ]
    },
    {
      "cell_type": "code",
      "execution_count": null,
      "metadata": {
        "id": "BGSW2JFE5Md2"
      },
      "outputs": [],
      "source": [
        "cols_target_ent2 = get_target_ent(list_tweets2, list_targets2)"
      ]
    },
    {
      "cell_type": "code",
      "execution_count": null,
      "metadata": {
        "id": "54cl884n5Md3"
      },
      "outputs": [],
      "source": [
        "df2_ent = df2.loc[:, [\"Heading\", \"Target\"]]\n",
        "df2_ent[\"pred_target\"] = cols_target_ent2[0]\n",
        "df2_ent[\"dependencia\"] = cols_target_ent2[1]\n",
        "df2_ent[\"pred_entidad\"] = cols_target_ent2[2]\n",
        "df2_ent.to_csv(\"data_web/headings_finanzas_entidades.csv\", index=False)"
      ]
    },
    {
      "cell_type": "code",
      "execution_count": null,
      "metadata": {
        "colab": {
          "base_uri": "https://localhost:8080/",
          "height": 472
        },
        "outputId": "f90cd905-3ae5-4070-e433-e8ecff8a7aba",
        "id": "QdWFnkFp5Md4"
      },
      "outputs": [
        {
          "output_type": "execute_result",
          "data": {
            "text/plain": [
              "Text(0.5, 1.0, 'Distribución de las entidades del target')"
            ]
          },
          "metadata": {},
          "execution_count": 51
        },
        {
          "output_type": "display_data",
          "data": {
            "text/plain": [
              "<Figure size 1440x504 with 2 Axes>"
            ],
            "image/png": "[encoded data removed]"
          },
          "metadata": {
            "needs_background": "light"
          }
        }
      ],
      "source": [
        "fig, (ax1, ax2) = plt.subplots(1, 2, figsize=(20,7))\n",
        "\n",
        "df2_ent['dependencia'].value_counts(normalize=True).plot(kind='bar', ax=ax1)\n",
        "ax1.tick_params(labelrotation=0)\n",
        "ax1.set(ylabel='Porcentaje de apariciones', xlabel='Dependencia morfológica')\n",
        "ax1.set_title((\"Distribución de las dependencias morfológicas del target\"))\n",
        "\n",
        "df2_ent['pred_entidad'].value_counts(normalize=True).plot(kind='bar', ax=ax2)\n",
        "ax2.tick_params(labelrotation=0)\n",
        "ax2.set(xlabel=\"Entidades\")\n",
        "ax2.set_title((\"Distribución de las entidades del target\"))"
      ]
    },
    {
      "cell_type": "code",
      "execution_count": null,
      "metadata": {
        "colab": {
          "base_uri": "https://localhost:8080/"
        },
        "outputId": "41fc42d0-6cfb-423c-e35d-8fce148eb81b",
        "id": "earLPAV35Md4"
      },
      "outputs": [
        {
          "output_type": "stream",
          "name": "stdout",
          "text": [
            "Distribución de las dependencias morfológicas del target:\n",
            "\n",
            "nsubj    71.850220\n",
            "None     22.819383\n",
            "obj       5.330396\n",
            "Name: dependencia, dtype: float64\n",
            "---------------------------------------------------------\n",
            "Distribución de las entidades del target:\n",
            "\n",
            "OTHER    39.207048\n",
            "ORG      26.343612\n",
            "None     22.819383\n",
            "PER       6.563877\n",
            "LOC       4.140969\n",
            "MISC      0.925110\n",
            "Name: pred_entidad, dtype: float64\n"
          ]
        }
      ],
      "source": [
        "print(\"Distribución de las dependencias morfológicas del target:\\n\")\n",
        "print(df2_ent['dependencia'].value_counts(normalize=True)*100)\n",
        "print(\"---------------------------------------------------------\")\n",
        "print(\"Distribución de las entidades del target:\\n\")\n",
        "print(df2_ent['pred_entidad'].value_counts(normalize=True)*100)"
      ]
    }
  ],
  "metadata": {
    "accelerator": "GPU",
    "colab": {
      "name": "BUENO-Detección_del_target.ipynb",
      "provenance": []
    },
    "gpuClass": "standard",
    "kernelspec": {
      "display_name": "Python 3",
      "name": "python3"
    },
    "language_info": {
      "name": "python"
    },
    "widgets": {
      "application/vnd.jupyter.widget-state+json": {
        "b557315a067e4a3fa622e43350a0e0e9": {
          "model_module": "@jupyter-widgets/controls",
          "model_name": "HBoxModel",
          "model_module_version": "1.5.0",
          "state": {
            "_dom_classes": [],
            "_model_module": "@jupyter-widgets/controls",
            "_model_module_version": "1.5.0",
            "_model_name": "HBoxModel",
            "_view_count": null,
            "_view_module": "@jupyter-widgets/controls",
            "_view_module_version": "1.5.0",
            "_view_name": "HBoxView",
            "box_style": "",
            "children": [
              "IPY_MODEL_a9a5c292443e4b16ab8dd698a1b0e31a",
              "IPY_MODEL_b62fa8dd268e4a6fb1987679486fc976",
              "IPY_MODEL_bfcb6dcf76e0468999cc41900b6d5bea"
            ],
            "layout": "IPY_MODEL_35132f357117451390bdd6f6e97dbf16"
          }
        },
        "a9a5c292443e4b16ab8dd698a1b0e31a": {
          "model_module": "@jupyter-widgets/controls",
          "model_name": "HTMLModel",
          "model_module_version": "1.5.0",
          "state": {
            "_dom_classes": [],
            "_model_module": "@jupyter-widgets/controls",
            "_model_module_version": "1.5.0",
            "_model_name": "HTMLModel",
            "_view_count": null,
            "_view_module": "@jupyter-widgets/controls",
            "_view_module_version": "1.5.0",
            "_view_name": "HTMLView",
            "description": "",
            "description_tooltip": null,
            "layout": "IPY_MODEL_c3051836185c4eb686021137e173aa1b",
            "placeholder": "​",
            "style": "IPY_MODEL_0b925605facc4f93bf09b464410a5cee",
            "value": "Downloading https://raw.githubusercontent.com/stanfordnlp/stanza-resources/main/resources_1.4.0.json: "
          }
        },
        "b62fa8dd268e4a6fb1987679486fc976": {
          "model_module": "@jupyter-widgets/controls",
          "model_name": "FloatProgressModel",
          "model_module_version": "1.5.0",
          "state": {
            "_dom_classes": [],
            "_model_module": "@jupyter-widgets/controls",
            "_model_module_version": "1.5.0",
            "_model_name": "FloatProgressModel",
            "_view_count": null,
            "_view_module": "@jupyter-widgets/controls",
            "_view_module_version": "1.5.0",
            "_view_name": "ProgressView",
            "bar_style": "success",
            "description": "",
            "description_tooltip": null,
            "layout": "IPY_MODEL_f41ff8020745486e8f101c17e7d05cd3",
            "max": 25998,
            "min": 0,
            "orientation": "horizontal",
            "style": "IPY_MODEL_793c16bec0344b4a98581e7cb254f238",
            "value": 25998
          }
        },
        "bfcb6dcf76e0468999cc41900b6d5bea": {
          "model_module": "@jupyter-widgets/controls",
          "model_name": "HTMLModel",
          "model_module_version": "1.5.0",
          "state": {
            "_dom_classes": [],
            "_model_module": "@jupyter-widgets/controls",
            "_model_module_version": "1.5.0",
            "_model_name": "HTMLModel",
            "_view_count": null,
            "_view_module": "@jupyter-widgets/controls",
            "_view_module_version": "1.5.0",
            "_view_name": "HTMLView",
            "description": "",
            "description_tooltip": null,
            "layout": "IPY_MODEL_b3617f88b96d43598b73fe20d2ccf3c1",
            "placeholder": "​",
            "style": "IPY_MODEL_de303cb6fd9d41d1b73836650b5d6507",
            "value": " 154k/? [00:00&lt;00:00, 4.24MB/s]"
          }
        },
        "35132f357117451390bdd6f6e97dbf16": {
          "model_module": "@jupyter-widgets/base",
          "model_name": "LayoutModel",
          "model_module_version": "1.2.0",
          "state": {
            "_model_module": "@jupyter-widgets/base",
            "_model_module_version": "1.2.0",
            "_model_name": "LayoutModel",
            "_view_count": null,
            "_view_module": "@jupyter-widgets/base",
            "_view_module_version": "1.2.0",
            "_view_name": "LayoutView",
            "align_content": null,
            "align_items": null,
            "align_self": null,
            "border": null,
            "bottom": null,
            "display": null,
            "flex": null,
            "flex_flow": null,
            "grid_area": null,
            "grid_auto_columns": null,
            "grid_auto_flow": null,
            "grid_auto_rows": null,
            "grid_column": null,
            "grid_gap": null,
            "grid_row": null,
            "grid_template_areas": null,
            "grid_template_columns": null,
            "grid_template_rows": null,
            "height": null,
            "justify_content": null,
            "justify_items": null,
            "left": null,
            "margin": null,
            "max_height": null,
            "max_width": null,
            "min_height": null,
            "min_width": null,
            "object_fit": null,
            "object_position": null,
            "order": null,
            "overflow": null,
            "overflow_x": null,
            "overflow_y": null,
            "padding": null,
            "right": null,
            "top": null,
            "visibility": null,
            "width": null
          }
        },
        "c3051836185c4eb686021137e173aa1b": {
          "model_module": "@jupyter-widgets/base",
          "model_name": "LayoutModel",
          "model_module_version": "1.2.0",
          "state": {
            "_model_module": "@jupyter-widgets/base",
            "_model_module_version": "1.2.0",
            "_model_name": "LayoutModel",
            "_view_count": null,
            "_view_module": "@jupyter-widgets/base",
            "_view_module_version": "1.2.0",
            "_view_name": "LayoutView",
            "align_content": null,
            "align_items": null,
            "align_self": null,
            "border": null,
            "bottom": null,
            "display": null,
            "flex": null,
            "flex_flow": null,
            "grid_area": null,
            "grid_auto_columns": null,
            "grid_auto_flow": null,
            "grid_auto_rows": null,
            "grid_column": null,
            "grid_gap": null,
            "grid_row": null,
            "grid_template_areas": null,
            "grid_template_columns": null,
            "grid_template_rows": null,
            "height": null,
            "justify_content": null,
            "justify_items": null,
            "left": null,
            "margin": null,
            "max_height": null,
            "max_width": null,
            "min_height": null,
            "min_width": null,
            "object_fit": null,
            "object_position": null,
            "order": null,
            "overflow": null,
            "overflow_x": null,
            "overflow_y": null,
            "padding": null,
            "right": null,
            "top": null,
            "visibility": null,
            "width": null
          }
        },
        "0b925605facc4f93bf09b464410a5cee": {
          "model_module": "@jupyter-widgets/controls",
          "model_name": "DescriptionStyleModel",
          "model_module_version": "1.5.0",
          "state": {
            "_model_module": "@jupyter-widgets/controls",
            "_model_module_version": "1.5.0",
            "_model_name": "DescriptionStyleModel",
            "_view_count": null,
            "_view_module": "@jupyter-widgets/base",
            "_view_module_version": "1.2.0",
            "_view_name": "StyleView",
            "description_width": ""
          }
        },
        "f41ff8020745486e8f101c17e7d05cd3": {
          "model_module": "@jupyter-widgets/base",
          "model_name": "LayoutModel",
          "model_module_version": "1.2.0",
          "state": {
            "_model_module": "@jupyter-widgets/base",
            "_model_module_version": "1.2.0",
            "_model_name": "LayoutModel",
            "_view_count": null,
            "_view_module": "@jupyter-widgets/base",
            "_view_module_version": "1.2.0",
            "_view_name": "LayoutView",
            "align_content": null,
            "align_items": null,
            "align_self": null,
            "border": null,
            "bottom": null,
            "display": null,
            "flex": null,
            "flex_flow": null,
            "grid_area": null,
            "grid_auto_columns": null,
            "grid_auto_flow": null,
            "grid_auto_rows": null,
            "grid_column": null,
            "grid_gap": null,
            "grid_row": null,
            "grid_template_areas": null,
            "grid_template_columns": null,
            "grid_template_rows": null,
            "height": null,
            "justify_content": null,
            "justify_items": null,
            "left": null,
            "margin": null,
            "max_height": null,
            "max_width": null,
            "min_height": null,
            "min_width": null,
            "object_fit": null,
            "object_position": null,
            "order": null,
            "overflow": null,
            "overflow_x": null,
            "overflow_y": null,
            "padding": null,
            "right": null,
            "top": null,
            "visibility": null,
            "width": null
          }
        },
        "793c16bec0344b4a98581e7cb254f238": {
          "model_module": "@jupyter-widgets/controls",
          "model_name": "ProgressStyleModel",
          "model_module_version": "1.5.0",
          "state": {
            "_model_module": "@jupyter-widgets/controls",
            "_model_module_version": "1.5.0",
            "_model_name": "ProgressStyleModel",
            "_view_count": null,
            "_view_module": "@jupyter-widgets/base",
            "_view_module_version": "1.2.0",
            "_view_name": "StyleView",
            "bar_color": null,
            "description_width": ""
          }
        },
        "b3617f88b96d43598b73fe20d2ccf3c1": {
          "model_module": "@jupyter-widgets/base",
          "model_name": "LayoutModel",
          "model_module_version": "1.2.0",
          "state": {
            "_model_module": "@jupyter-widgets/base",
            "_model_module_version": "1.2.0",
            "_model_name": "LayoutModel",
            "_view_count": null,
            "_view_module": "@jupyter-widgets/base",
            "_view_module_version": "1.2.0",
            "_view_name": "LayoutView",
            "align_content": null,
            "align_items": null,
            "align_self": null,
            "border": null,
            "bottom": null,
            "display": null,
            "flex": null,
            "flex_flow": null,
            "grid_area": null,
            "grid_auto_columns": null,
            "grid_auto_flow": null,
            "grid_auto_rows": null,
            "grid_column": null,
            "grid_gap": null,
            "grid_row": null,
            "grid_template_areas": null,
            "grid_template_columns": null,
            "grid_template_rows": null,
            "height": null,
            "justify_content": null,
            "justify_items": null,
            "left": null,
            "margin": null,
            "max_height": null,
            "max_width": null,
            "min_height": null,
            "min_width": null,
            "object_fit": null,
            "object_position": null,
            "order": null,
            "overflow": null,
            "overflow_x": null,
            "overflow_y": null,
            "padding": null,
            "right": null,
            "top": null,
            "visibility": null,
            "width": null
          }
        },
        "de303cb6fd9d41d1b73836650b5d6507": {
          "model_module": "@jupyter-widgets/controls",
          "model_name": "DescriptionStyleModel",
          "model_module_version": "1.5.0",
          "state": {
            "_model_module": "@jupyter-widgets/controls",
            "_model_module_version": "1.5.0",
            "_model_name": "DescriptionStyleModel",
            "_view_count": null,
            "_view_module": "@jupyter-widgets/base",
            "_view_module_version": "1.2.0",
            "_view_name": "StyleView",
            "description_width": ""
          }
        },
        "6e0ac0490eb74fd29fe0a34228fabbed": {
          "model_module": "@jupyter-widgets/controls",
          "model_name": "HBoxModel",
          "model_module_version": "1.5.0",
          "state": {
            "_dom_classes": [],
            "_model_module": "@jupyter-widgets/controls",
            "_model_module_version": "1.5.0",
            "_model_name": "HBoxModel",
            "_view_count": null,
            "_view_module": "@jupyter-widgets/controls",
            "_view_module_version": "1.5.0",
            "_view_name": "HBoxView",
            "box_style": "",
            "children": [
              "IPY_MODEL_12f843bd38ae443187c72a12f79998b5",
              "IPY_MODEL_0782a879cec0441595e930a8dd7efc5e",
              "IPY_MODEL_46ed80b7be59477d8e4ade92f50b397b"
            ],
            "layout": "IPY_MODEL_18b6f842ff6b45cca6f59d15a6fe8a71"
          }
        },
        "12f843bd38ae443187c72a12f79998b5": {
          "model_module": "@jupyter-widgets/controls",
          "model_name": "HTMLModel",
          "model_module_version": "1.5.0",
          "state": {
            "_dom_classes": [],
            "_model_module": "@jupyter-widgets/controls",
            "_model_module_version": "1.5.0",
            "_model_name": "HTMLModel",
            "_view_count": null,
            "_view_module": "@jupyter-widgets/controls",
            "_view_module_version": "1.5.0",
            "_view_name": "HTMLView",
            "description": "",
            "description_tooltip": null,
            "layout": "IPY_MODEL_ff19a2d7ffd747d3a69646b8a4e50b2d",
            "placeholder": "​",
            "style": "IPY_MODEL_10d9650a387046f89ca67cdb0b77ee7c",
            "value": "Downloading https://huggingface.co/stanfordnlp/stanza-es/resolve/v1.4.0/models/default.zip: 100%"
          }
        },
        "0782a879cec0441595e930a8dd7efc5e": {
          "model_module": "@jupyter-widgets/controls",
          "model_name": "FloatProgressModel",
          "model_module_version": "1.5.0",
          "state": {
            "_dom_classes": [],
            "_model_module": "@jupyter-widgets/controls",
            "_model_module_version": "1.5.0",
            "_model_name": "FloatProgressModel",
            "_view_count": null,
            "_view_module": "@jupyter-widgets/controls",
            "_view_module_version": "1.5.0",
            "_view_name": "ProgressView",
            "bar_style": "success",
            "description": "",
            "description_tooltip": null,
            "layout": "IPY_MODEL_a789e9f4f4b94a748932da912f0aa4ad",
            "max": 565554574,
            "min": 0,
            "orientation": "horizontal",
            "style": "IPY_MODEL_b3ff454288ae46008b680846e7c0bb56",
            "value": 565554574
          }
        },
        "46ed80b7be59477d8e4ade92f50b397b": {
          "model_module": "@jupyter-widgets/controls",
          "model_name": "HTMLModel",
          "model_module_version": "1.5.0",
          "state": {
            "_dom_classes": [],
            "_model_module": "@jupyter-widgets/controls",
            "_model_module_version": "1.5.0",
            "_model_name": "HTMLModel",
            "_view_count": null,
            "_view_module": "@jupyter-widgets/controls",
            "_view_module_version": "1.5.0",
            "_view_name": "HTMLView",
            "description": "",
            "description_tooltip": null,
            "layout": "IPY_MODEL_4df16fe19a6f48d991e22503b8a8fdd9",
            "placeholder": "​",
            "style": "IPY_MODEL_b7bb4f86c4584df295563568ae143c0e",
            "value": " 566M/566M [00:02&lt;00:00, 212MB/s]"
          }
        },
        "18b6f842ff6b45cca6f59d15a6fe8a71": {
          "model_module": "@jupyter-widgets/base",
          "model_name": "LayoutModel",
          "model_module_version": "1.2.0",
          "state": {
            "_model_module": "@jupyter-widgets/base",
            "_model_module_version": "1.2.0",
            "_model_name": "LayoutModel",
            "_view_count": null,
            "_view_module": "@jupyter-widgets/base",
            "_view_module_version": "1.2.0",
            "_view_name": "LayoutView",
            "align_content": null,
            "align_items": null,
            "align_self": null,
            "border": null,
            "bottom": null,
            "display": null,
            "flex": null,
            "flex_flow": null,
            "grid_area": null,
            "grid_auto_columns": null,
            "grid_auto_flow": null,
            "grid_auto_rows": null,
            "grid_column": null,
            "grid_gap": null,
            "grid_row": null,
            "grid_template_areas": null,
            "grid_template_columns": null,
            "grid_template_rows": null,
            "height": null,
            "justify_content": null,
            "justify_items": null,
            "left": null,
            "margin": null,
            "max_height": null,
            "max_width": null,
            "min_height": null,
            "min_width": null,
            "object_fit": null,
            "object_position": null,
            "order": null,
            "overflow": null,
            "overflow_x": null,
            "overflow_y": null,
            "padding": null,
            "right": null,
            "top": null,
            "visibility": null,
            "width": null
          }
        },
        "ff19a2d7ffd747d3a69646b8a4e50b2d": {
          "model_module": "@jupyter-widgets/base",
          "model_name": "LayoutModel",
          "model_module_version": "1.2.0",
          "state": {
            "_model_module": "@jupyter-widgets/base",
            "_model_module_version": "1.2.0",
            "_model_name": "LayoutModel",
            "_view_count": null,
            "_view_module": "@jupyter-widgets/base",
            "_view_module_version": "1.2.0",
            "_view_name": "LayoutView",
            "align_content": null,
            "align_items": null,
            "align_self": null,
            "border": null,
            "bottom": null,
            "display": null,
            "flex": null,
            "flex_flow": null,
            "grid_area": null,
            "grid_auto_columns": null,
            "grid_auto_flow": null,
            "grid_auto_rows": null,
            "grid_column": null,
            "grid_gap": null,
            "grid_row": null,
            "grid_template_areas": null,
            "grid_template_columns": null,
            "grid_template_rows": null,
            "height": null,
            "justify_content": null,
            "justify_items": null,
            "left": null,
            "margin": null,
            "max_height": null,
            "max_width": null,
            "min_height": null,
            "min_width": null,
            "object_fit": null,
            "object_position": null,
            "order": null,
            "overflow": null,
            "overflow_x": null,
            "overflow_y": null,
            "padding": null,
            "right": null,
            "top": null,
            "visibility": null,
            "width": null
          }
        },
        "10d9650a387046f89ca67cdb0b77ee7c": {
          "model_module": "@jupyter-widgets/controls",
          "model_name": "DescriptionStyleModel",
          "model_module_version": "1.5.0",
          "state": {
            "_model_module": "@jupyter-widgets/controls",
            "_model_module_version": "1.5.0",
            "_model_name": "DescriptionStyleModel",
            "_view_count": null,
            "_view_module": "@jupyter-widgets/base",
            "_view_module_version": "1.2.0",
            "_view_name": "StyleView",
            "description_width": ""
          }
        },
        "a789e9f4f4b94a748932da912f0aa4ad": {
          "model_module": "@jupyter-widgets/base",
          "model_name": "LayoutModel",
          "model_module_version": "1.2.0",
          "state": {
            "_model_module": "@jupyter-widgets/base",
            "_model_module_version": "1.2.0",
            "_model_name": "LayoutModel",
            "_view_count": null,
            "_view_module": "@jupyter-widgets/base",
            "_view_module_version": "1.2.0",
            "_view_name": "LayoutView",
            "align_content": null,
            "align_items": null,
            "align_self": null,
            "border": null,
            "bottom": null,
            "display": null,
            "flex": null,
            "flex_flow": null,
            "grid_area": null,
            "grid_auto_columns": null,
            "grid_auto_flow": null,
            "grid_auto_rows": null,
            "grid_column": null,
            "grid_gap": null,
            "grid_row": null,
            "grid_template_areas": null,
            "grid_template_columns": null,
            "grid_template_rows": null,
            "height": null,
            "justify_content": null,
            "justify_items": null,
            "left": null,
            "margin": null,
            "max_height": null,
            "max_width": null,
            "min_height": null,
            "min_width": null,
            "object_fit": null,
            "object_position": null,
            "order": null,
            "overflow": null,
            "overflow_x": null,
            "overflow_y": null,
            "padding": null,
            "right": null,
            "top": null,
            "visibility": null,
            "width": null
          }
        },
        "b3ff454288ae46008b680846e7c0bb56": {
          "model_module": "@jupyter-widgets/controls",
          "model_name": "ProgressStyleModel",
          "model_module_version": "1.5.0",
          "state": {
            "_model_module": "@jupyter-widgets/controls",
            "_model_module_version": "1.5.0",
            "_model_name": "ProgressStyleModel",
            "_view_count": null,
            "_view_module": "@jupyter-widgets/base",
            "_view_module_version": "1.2.0",
            "_view_name": "StyleView",
            "bar_color": null,
            "description_width": ""
          }
        },
        "4df16fe19a6f48d991e22503b8a8fdd9": {
          "model_module": "@jupyter-widgets/base",
          "model_name": "LayoutModel",
          "model_module_version": "1.2.0",
          "state": {
            "_model_module": "@jupyter-widgets/base",
            "_model_module_version": "1.2.0",
            "_model_name": "LayoutModel",
            "_view_count": null,
            "_view_module": "@jupyter-widgets/base",
            "_view_module_version": "1.2.0",
            "_view_name": "LayoutView",
            "align_content": null,
            "align_items": null,
            "align_self": null,
            "border": null,
            "bottom": null,
            "display": null,
            "flex": null,
            "flex_flow": null,
            "grid_area": null,
            "grid_auto_columns": null,
            "grid_auto_flow": null,
            "grid_auto_rows": null,
            "grid_column": null,
            "grid_gap": null,
            "grid_row": null,
            "grid_template_areas": null,
            "grid_template_columns": null,
            "grid_template_rows": null,
            "height": null,
            "justify_content": null,
            "justify_items": null,
            "left": null,
            "margin": null,
            "max_height": null,
            "max_width": null,
            "min_height": null,
            "min_width": null,
            "object_fit": null,
            "object_position": null,
            "order": null,
            "overflow": null,
            "overflow_x": null,
            "overflow_y": null,
            "padding": null,
            "right": null,
            "top": null,
            "visibility": null,
            "width": null
          }
        },
        "b7bb4f86c4584df295563568ae143c0e": {
          "model_module": "@jupyter-widgets/controls",
          "model_name": "DescriptionStyleModel",
          "model_module_version": "1.5.0",
          "state": {
            "_model_module": "@jupyter-widgets/controls",
            "_model_module_version": "1.5.0",
            "_model_name": "DescriptionStyleModel",
            "_view_count": null,
            "_view_module": "@jupyter-widgets/base",
            "_view_module_version": "1.2.0",
            "_view_name": "StyleView",
            "description_width": ""
          }
        },
        "90ac4a529a804733bf908a1164322f17": {
          "model_module": "@jupyter-widgets/controls",
          "model_name": "HBoxModel",
          "model_module_version": "1.5.0",
          "state": {
            "_dom_classes": [],
            "_model_module": "@jupyter-widgets/controls",
            "_model_module_version": "1.5.0",
            "_model_name": "HBoxModel",
            "_view_count": null,
            "_view_module": "@jupyter-widgets/controls",
            "_view_module_version": "1.5.0",
            "_view_name": "HBoxView",
            "box_style": "",
            "children": [
              "IPY_MODEL_cde09037f76745c3a501ee93c0ef9596",
              "IPY_MODEL_308419ea43df41dfa686728330ef2a93",
              "IPY_MODEL_240f7dbb1a1e43bf9bd51d459bc04d90"
            ],
            "layout": "IPY_MODEL_658d760c7e5e41c3af8b3bb8aebe5405"
          }
        },
        "cde09037f76745c3a501ee93c0ef9596": {
          "model_module": "@jupyter-widgets/controls",
          "model_name": "HTMLModel",
          "model_module_version": "1.5.0",
          "state": {
            "_dom_classes": [],
            "_model_module": "@jupyter-widgets/controls",
            "_model_module_version": "1.5.0",
            "_model_name": "HTMLModel",
            "_view_count": null,
            "_view_module": "@jupyter-widgets/controls",
            "_view_module_version": "1.5.0",
            "_view_name": "HTMLView",
            "description": "",
            "description_tooltip": null,
            "layout": "IPY_MODEL_6a0f2734d4b44e4ca117de559bfc325c",
            "placeholder": "​",
            "style": "IPY_MODEL_ed7146775d07427eb2409880c481bbd1",
            "value": "Downloading https://raw.githubusercontent.com/stanfordnlp/stanza-resources/main/resources_1.4.0.json: "
          }
        },
        "308419ea43df41dfa686728330ef2a93": {
          "model_module": "@jupyter-widgets/controls",
          "model_name": "FloatProgressModel",
          "model_module_version": "1.5.0",
          "state": {
            "_dom_classes": [],
            "_model_module": "@jupyter-widgets/controls",
            "_model_module_version": "1.5.0",
            "_model_name": "FloatProgressModel",
            "_view_count": null,
            "_view_module": "@jupyter-widgets/controls",
            "_view_module_version": "1.5.0",
            "_view_name": "ProgressView",
            "bar_style": "success",
            "description": "",
            "description_tooltip": null,
            "layout": "IPY_MODEL_f4542bbf3dc949d4a04262bb6bf6f010",
            "max": 25998,
            "min": 0,
            "orientation": "horizontal",
            "style": "IPY_MODEL_bfdf0c385977487c9ab5f805ec6e00fd",
            "value": 25998
          }
        },
        "240f7dbb1a1e43bf9bd51d459bc04d90": {
          "model_module": "@jupyter-widgets/controls",
          "model_name": "HTMLModel",
          "model_module_version": "1.5.0",
          "state": {
            "_dom_classes": [],
            "_model_module": "@jupyter-widgets/controls",
            "_model_module_version": "1.5.0",
            "_model_name": "HTMLModel",
            "_view_count": null,
            "_view_module": "@jupyter-widgets/controls",
            "_view_module_version": "1.5.0",
            "_view_name": "HTMLView",
            "description": "",
            "description_tooltip": null,
            "layout": "IPY_MODEL_f2bc1420adcd4133ad40e442583adf94",
            "placeholder": "​",
            "style": "IPY_MODEL_2ffbaaa637884f61b42aa5818f2f3e62",
            "value": " 154k/? [00:00&lt;00:00, 4.25MB/s]"
          }
        },
        "658d760c7e5e41c3af8b3bb8aebe5405": {
          "model_module": "@jupyter-widgets/base",
          "model_name": "LayoutModel",
          "model_module_version": "1.2.0",
          "state": {
            "_model_module": "@jupyter-widgets/base",
            "_model_module_version": "1.2.0",
            "_model_name": "LayoutModel",
            "_view_count": null,
            "_view_module": "@jupyter-widgets/base",
            "_view_module_version": "1.2.0",
            "_view_name": "LayoutView",
            "align_content": null,
            "align_items": null,
            "align_self": null,
            "border": null,
            "bottom": null,
            "display": null,
            "flex": null,
            "flex_flow": null,
            "grid_area": null,
            "grid_auto_columns": null,
            "grid_auto_flow": null,
            "grid_auto_rows": null,
            "grid_column": null,
            "grid_gap": null,
            "grid_row": null,
            "grid_template_areas": null,
            "grid_template_columns": null,
            "grid_template_rows": null,
            "height": null,
            "justify_content": null,
            "justify_items": null,
            "left": null,
            "margin": null,
            "max_height": null,
            "max_width": null,
            "min_height": null,
            "min_width": null,
            "object_fit": null,
            "object_position": null,
            "order": null,
            "overflow": null,
            "overflow_x": null,
            "overflow_y": null,
            "padding": null,
            "right": null,
            "top": null,
            "visibility": null,
            "width": null
          }
        },
        "6a0f2734d4b44e4ca117de559bfc325c": {
          "model_module": "@jupyter-widgets/base",
          "model_name": "LayoutModel",
          "model_module_version": "1.2.0",
          "state": {
            "_model_module": "@jupyter-widgets/base",
            "_model_module_version": "1.2.0",
            "_model_name": "LayoutModel",
            "_view_count": null,
            "_view_module": "@jupyter-widgets/base",
            "_view_module_version": "1.2.0",
            "_view_name": "LayoutView",
            "align_content": null,
            "align_items": null,
            "align_self": null,
            "border": null,
            "bottom": null,
            "display": null,
            "flex": null,
            "flex_flow": null,
            "grid_area": null,
            "grid_auto_columns": null,
            "grid_auto_flow": null,
            "grid_auto_rows": null,
            "grid_column": null,
            "grid_gap": null,
            "grid_row": null,
            "grid_template_areas": null,
            "grid_template_columns": null,
            "grid_template_rows": null,
            "height": null,
            "justify_content": null,
            "justify_items": null,
            "left": null,
            "margin": null,
            "max_height": null,
            "max_width": null,
            "min_height": null,
            "min_width": null,
            "object_fit": null,
            "object_position": null,
            "order": null,
            "overflow": null,
            "overflow_x": null,
            "overflow_y": null,
            "padding": null,
            "right": null,
            "top": null,
            "visibility": null,
            "width": null
          }
        },
        "ed7146775d07427eb2409880c481bbd1": {
          "model_module": "@jupyter-widgets/controls",
          "model_name": "DescriptionStyleModel",
          "model_module_version": "1.5.0",
          "state": {
            "_model_module": "@jupyter-widgets/controls",
            "_model_module_version": "1.5.0",
            "_model_name": "DescriptionStyleModel",
            "_view_count": null,
            "_view_module": "@jupyter-widgets/base",
            "_view_module_version": "1.2.0",
            "_view_name": "StyleView",
            "description_width": ""
          }
        },
        "f4542bbf3dc949d4a04262bb6bf6f010": {
          "model_module": "@jupyter-widgets/base",
          "model_name": "LayoutModel",
          "model_module_version": "1.2.0",
          "state": {
            "_model_module": "@jupyter-widgets/base",
            "_model_module_version": "1.2.0",
            "_model_name": "LayoutModel",
            "_view_count": null,
            "_view_module": "@jupyter-widgets/base",
            "_view_module_version": "1.2.0",
            "_view_name": "LayoutView",
            "align_content": null,
            "align_items": null,
            "align_self": null,
            "border": null,
            "bottom": null,
            "display": null,
            "flex": null,
            "flex_flow": null,
            "grid_area": null,
            "grid_auto_columns": null,
            "grid_auto_flow": null,
            "grid_auto_rows": null,
            "grid_column": null,
            "grid_gap": null,
            "grid_row": null,
            "grid_template_areas": null,
            "grid_template_columns": null,
            "grid_template_rows": null,
            "height": null,
            "justify_content": null,
            "justify_items": null,
            "left": null,
            "margin": null,
            "max_height": null,
            "max_width": null,
            "min_height": null,
            "min_width": null,
            "object_fit": null,
            "object_position": null,
            "order": null,
            "overflow": null,
            "overflow_x": null,
            "overflow_y": null,
            "padding": null,
            "right": null,
            "top": null,
            "visibility": null,
            "width": null
          }
        },
        "bfdf0c385977487c9ab5f805ec6e00fd": {
          "model_module": "@jupyter-widgets/controls",
          "model_name": "ProgressStyleModel",
          "model_module_version": "1.5.0",
          "state": {
            "_model_module": "@jupyter-widgets/controls",
            "_model_module_version": "1.5.0",
            "_model_name": "ProgressStyleModel",
            "_view_count": null,
            "_view_module": "@jupyter-widgets/base",
            "_view_module_version": "1.2.0",
            "_view_name": "StyleView",
            "bar_color": null,
            "description_width": ""
          }
        },
        "f2bc1420adcd4133ad40e442583adf94": {
          "model_module": "@jupyter-widgets/base",
          "model_name": "LayoutModel",
          "model_module_version": "1.2.0",
          "state": {
            "_model_module": "@jupyter-widgets/base",
            "_model_module_version": "1.2.0",
            "_model_name": "LayoutModel",
            "_view_count": null,
            "_view_module": "@jupyter-widgets/base",
            "_view_module_version": "1.2.0",
            "_view_name": "LayoutView",
            "align_content": null,
            "align_items": null,
            "align_self": null,
            "border": null,
            "bottom": null,
            "display": null,
            "flex": null,
            "flex_flow": null,
            "grid_area": null,
            "grid_auto_columns": null,
            "grid_auto_flow": null,
            "grid_auto_rows": null,
            "grid_column": null,
            "grid_gap": null,
            "grid_row": null,
            "grid_template_areas": null,
            "grid_template_columns": null,
            "grid_template_rows": null,
            "height": null,
            "justify_content": null,
            "justify_items": null,
            "left": null,
            "margin": null,
            "max_height": null,
            "max_width": null,
            "min_height": null,
            "min_width": null,
            "object_fit": null,
            "object_position": null,
            "order": null,
            "overflow": null,
            "overflow_x": null,
            "overflow_y": null,
            "padding": null,
            "right": null,
            "top": null,
            "visibility": null,
            "width": null
          }
        },
        "2ffbaaa637884f61b42aa5818f2f3e62": {
          "model_module": "@jupyter-widgets/controls",
          "model_name": "DescriptionStyleModel",
          "model_module_version": "1.5.0",
          "state": {
            "_model_module": "@jupyter-widgets/controls",
            "_model_module_version": "1.5.0",
            "_model_name": "DescriptionStyleModel",
            "_view_count": null,
            "_view_module": "@jupyter-widgets/base",
            "_view_module_version": "1.2.0",
            "_view_name": "StyleView",
            "description_width": ""
          }
        }
      }
    }
  },
  "nbformat": 4,
  "nbformat_minor": 0
}