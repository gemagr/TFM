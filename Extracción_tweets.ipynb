{
  "cells": [
    {
      "cell_type": "code",
      "execution_count": null,
      "id": "08b161eb",
      "metadata": {
        "id": "08b161eb"
      },
      "outputs": [],
      "source": [
        "import tweepy as tw\n",
        "import pandas as pd\n",
        "from matplotlib import pyplot as plt\n",
        "import seaborn as sn\n",
        "import json\n",
        "import os\n",
        "import random"
      ]
    },
    {
      "cell_type": "code",
      "execution_count": null,
      "id": "29bd2675",
      "metadata": {
        "id": "29bd2675"
      },
      "outputs": [],
      "source": [
        "# Credenciales\n",
        "consumer_key= \"\"\n",
        "consumer_secret= \"\"\n",
        "access_token= \"\"\n",
        "access_token_secret= \"\"\n",
        "\n",
        "auth = tw.OAuthHandler(consumer_key, consumer_secret)\n",
        "auth.set_access_token(access_token, access_token_secret)\n",
        "api = tw.API(auth)"
      ]
    },
    {
      "cell_type": "code",
      "execution_count": null,
      "id": "ae1e4f23",
      "metadata": {
        "id": "ae1e4f23"
      },
      "outputs": [],
      "source": [
        "list_accounts = [\"EPeconomia\", \"abceconomia\",\n",
        "                \"EFEeconomia\", \"ExpansionBolsa\", \n",
        "                 \"expansioncom\", \"elEconomistaes\", \n",
        "                 \"elpais_economia\"]\n",
        "tweets = []\n",
        "\n",
        "for account in list_accounts:\n",
        "    tweets.append(api.user_timeline(screen_name=account, \n",
        "                               # 300 is the maximum allowed count\n",
        "                               count=300,\n",
        "                               include_rts = False,\n",
        "                               # Necessary to keep full_text \n",
        "                               # otherwise only the first 140 words are extracted\n",
        "                               tweet_mode = 'extended'\n",
        "                               ))\n",
        "    \n",
        "if (not os.path.exists('json_files')):\n",
        "    os.mkdir('json_files')"
      ]
    },
    {
      "cell_type": "code",
      "execution_count": null,
      "id": "30db73bd",
      "metadata": {
        "id": "30db73bd"
      },
      "outputs": [],
      "source": [
        "# Creamos los ficheros json\n",
        "\n",
        "for elem in range(0,len(tweets)):\n",
        "    list_tweets=[]\n",
        "    for js in range(0,len(tweets[elem])):\n",
        "        date = tweets[elem][js]._json['created_at']\n",
        "        text = tweets[elem][js]._json['full_text']\n",
        "        tweet = {\n",
        "            'Date': date,\n",
        "            'Tweet': text,\n",
        "            'Target': '',\n",
        "            'Sent_Target': '',\n",
        "            'Sent_Sociedad': '',\n",
        "            'Sent_Empresas': ''\n",
        "        }\n",
        "        list_tweets.append(tweet)\n",
        "        \n",
        "    account = \"@\" + tweets[elem][0]._json['user']['screen_name']\n",
        "\n",
        "    usuario = {\n",
        "        'Account': account,\n",
        "        'Tweets': list_tweets\n",
        "    }\n",
        "        \n",
        "    filename = tweets[elem][0]._json['user']['name'].replace(\" \",\"_\") + \".json\"\n",
        "    \n",
        "    with open ('json_files/' + filename, 'w') as f:\n",
        "        json.dump (usuario, f, indent = 4)"
      ]
    },
    {
      "cell_type": "code",
      "execution_count": null,
      "id": "c358c442",
      "metadata": {
        "id": "c358c442"
      },
      "outputs": [],
      "source": [
        "path_to_json = 'json_files/'\n",
        "json_files = [pos_json for pos_json in os.listdir(path_to_json) if pos_json.endswith('.json')]\n",
        "\n",
        "primerUsuario = True\n",
        "\n",
        "for js in json_files:\n",
        "        with open(os.path.join(path_to_json, js), \"r\") as json_file:\n",
        "            usuario = json.load(json_file)\n",
        "            if primerUsuario:\n",
        "                df = pd.json_normalize(usuario, meta= [\"Account\"], record_path =[\"Tweets\"])\n",
        "                primerUsuario = False\n",
        "            else:\n",
        "                df_account = pd.json_normalize(usuario, meta= [\"Account\"], record_path =[\"Tweets\"])\n",
        "                df = df.append(df_account, ignore_index = True)"
      ]
    },
    {
      "cell_type": "code",
      "execution_count": null,
      "id": "8097e759",
      "metadata": {
        "id": "8097e759"
      },
      "outputs": [],
      "source": [
        "path_to_json = 'json_files/expansioncom.json'\n",
        "#json_files = [pos_json for pos_json in os.listdir(path_to_json) if pos_json.endswith('.json')]\n",
        "\n",
        "primerUsuario = True\n",
        "\n",
        "with open(path_to_json, \"r\") as json_file:\n",
        "            usuario = json.load(json_file)\n",
        "            if primerUsuario:\n",
        "                df = pd.json_normalize(usuario, meta= [\"Account\"], record_path =[\"Tweets\"])\n",
        "                primerUsuario = False\n",
        "            else:\n",
        "                df_account = pd.json_normalize(usuario, meta= [\"Account\"], record_path =[\"Tweets\"])\n",
        "                df = df.append(df_account, ignore_index = True)\n"
      ]
    },
    {
      "cell_type": "code",
      "execution_count": null,
      "id": "89d8f65d",
      "metadata": {
        "id": "89d8f65d"
      },
      "outputs": [],
      "source": [
        "df.to_csv(\"data_twitter/tweets_finanzas.csv\")"
      ]
    }
  ],
  "metadata": {
    "kernelspec": {
      "display_name": "Python 3",
      "language": "python",
      "name": "python3"
    },
    "language_info": {
      "codemirror_mode": {
        "name": "ipython",
        "version": 3
      },
      "file_extension": ".py",
      "mimetype": "text/x-python",
      "name": "python",
      "nbconvert_exporter": "python",
      "pygments_lexer": "ipython3",
      "version": "3.8.8"
    },
    "colab": {
      "name": "Extracción tweets.ipynb",
      "provenance": []
    }
  },
  "nbformat": 4,
  "nbformat_minor": 5
}